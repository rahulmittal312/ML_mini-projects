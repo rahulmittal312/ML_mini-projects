{
 "cells": [
  {
   "cell_type": "code",
   "execution_count": 1,
   "metadata": {
    "collapsed": true
   },
   "outputs": [],
   "source": [
    "import numpy as np\n",
    "import pandas as pd\n",
    "import matplotlib.pyplot as plt\n",
    "%matplotlib inline"
   ]
  },
  {
   "cell_type": "code",
   "execution_count": 2,
   "metadata": {
    "collapsed": true
   },
   "outputs": [],
   "source": [
    "dataset=pd.read_csv('train.csv')"
   ]
  },
  {
   "cell_type": "code",
   "execution_count": 3,
   "metadata": {
    "collapsed": true
   },
   "outputs": [],
   "source": [
    "dataset_2=pd.read_csv('test.csv')"
   ]
  },
  {
   "cell_type": "code",
   "execution_count": 4,
   "metadata": {},
   "outputs": [
    {
     "data": {
      "text/html": [
       "<div>\n",
       "<style>\n",
       "    .dataframe thead tr:only-child th {\n",
       "        text-align: right;\n",
       "    }\n",
       "\n",
       "    .dataframe thead th {\n",
       "        text-align: left;\n",
       "    }\n",
       "\n",
       "    .dataframe tbody tr th {\n",
       "        vertical-align: top;\n",
       "    }\n",
       "</style>\n",
       "<table border=\"1\" class=\"dataframe\">\n",
       "  <thead>\n",
       "    <tr style=\"text-align: right;\">\n",
       "      <th></th>\n",
       "      <th>PassengerId</th>\n",
       "      <th>Survived</th>\n",
       "      <th>Pclass</th>\n",
       "      <th>Name</th>\n",
       "      <th>Sex</th>\n",
       "      <th>Age</th>\n",
       "      <th>SibSp</th>\n",
       "      <th>Parch</th>\n",
       "      <th>Ticket</th>\n",
       "      <th>Fare</th>\n",
       "      <th>Cabin</th>\n",
       "      <th>Embarked</th>\n",
       "    </tr>\n",
       "  </thead>\n",
       "  <tbody>\n",
       "    <tr>\n",
       "      <th>0</th>\n",
       "      <td>1</td>\n",
       "      <td>0</td>\n",
       "      <td>3</td>\n",
       "      <td>Braund, Mr. Owen Harris</td>\n",
       "      <td>male</td>\n",
       "      <td>22.0</td>\n",
       "      <td>1</td>\n",
       "      <td>0</td>\n",
       "      <td>A/5 21171</td>\n",
       "      <td>7.2500</td>\n",
       "      <td>NaN</td>\n",
       "      <td>S</td>\n",
       "    </tr>\n",
       "    <tr>\n",
       "      <th>1</th>\n",
       "      <td>2</td>\n",
       "      <td>1</td>\n",
       "      <td>1</td>\n",
       "      <td>Cumings, Mrs. John Bradley (Florence Briggs Th...</td>\n",
       "      <td>female</td>\n",
       "      <td>38.0</td>\n",
       "      <td>1</td>\n",
       "      <td>0</td>\n",
       "      <td>PC 17599</td>\n",
       "      <td>71.2833</td>\n",
       "      <td>C85</td>\n",
       "      <td>C</td>\n",
       "    </tr>\n",
       "    <tr>\n",
       "      <th>2</th>\n",
       "      <td>3</td>\n",
       "      <td>1</td>\n",
       "      <td>3</td>\n",
       "      <td>Heikkinen, Miss. Laina</td>\n",
       "      <td>female</td>\n",
       "      <td>26.0</td>\n",
       "      <td>0</td>\n",
       "      <td>0</td>\n",
       "      <td>STON/O2. 3101282</td>\n",
       "      <td>7.9250</td>\n",
       "      <td>NaN</td>\n",
       "      <td>S</td>\n",
       "    </tr>\n",
       "    <tr>\n",
       "      <th>3</th>\n",
       "      <td>4</td>\n",
       "      <td>1</td>\n",
       "      <td>1</td>\n",
       "      <td>Futrelle, Mrs. Jacques Heath (Lily May Peel)</td>\n",
       "      <td>female</td>\n",
       "      <td>35.0</td>\n",
       "      <td>1</td>\n",
       "      <td>0</td>\n",
       "      <td>113803</td>\n",
       "      <td>53.1000</td>\n",
       "      <td>C123</td>\n",
       "      <td>S</td>\n",
       "    </tr>\n",
       "    <tr>\n",
       "      <th>4</th>\n",
       "      <td>5</td>\n",
       "      <td>0</td>\n",
       "      <td>3</td>\n",
       "      <td>Allen, Mr. William Henry</td>\n",
       "      <td>male</td>\n",
       "      <td>35.0</td>\n",
       "      <td>0</td>\n",
       "      <td>0</td>\n",
       "      <td>373450</td>\n",
       "      <td>8.0500</td>\n",
       "      <td>NaN</td>\n",
       "      <td>S</td>\n",
       "    </tr>\n",
       "  </tbody>\n",
       "</table>\n",
       "</div>"
      ],
      "text/plain": [
       "   PassengerId  Survived  Pclass  \\\n",
       "0            1         0       3   \n",
       "1            2         1       1   \n",
       "2            3         1       3   \n",
       "3            4         1       1   \n",
       "4            5         0       3   \n",
       "\n",
       "                                                Name     Sex   Age  SibSp  \\\n",
       "0                            Braund, Mr. Owen Harris    male  22.0      1   \n",
       "1  Cumings, Mrs. John Bradley (Florence Briggs Th...  female  38.0      1   \n",
       "2                             Heikkinen, Miss. Laina  female  26.0      0   \n",
       "3       Futrelle, Mrs. Jacques Heath (Lily May Peel)  female  35.0      1   \n",
       "4                           Allen, Mr. William Henry    male  35.0      0   \n",
       "\n",
       "   Parch            Ticket     Fare Cabin Embarked  \n",
       "0      0         A/5 21171   7.2500   NaN        S  \n",
       "1      0          PC 17599  71.2833   C85        C  \n",
       "2      0  STON/O2. 3101282   7.9250   NaN        S  \n",
       "3      0            113803  53.1000  C123        S  \n",
       "4      0            373450   8.0500   NaN        S  "
      ]
     },
     "execution_count": 4,
     "metadata": {},
     "output_type": "execute_result"
    }
   ],
   "source": [
    "dataset.head()"
   ]
  },
  {
   "cell_type": "code",
   "execution_count": 5,
   "metadata": {
    "collapsed": true
   },
   "outputs": [],
   "source": [
    "dataset['Embarked']=dataset['Embarked'].fillna(value='S')"
   ]
  },
  {
   "cell_type": "code",
   "execution_count": 6,
   "metadata": {
    "collapsed": true
   },
   "outputs": [],
   "source": [
    "dataset_2['Embarked']=dataset['Embarked'].fillna(value='S')"
   ]
  },
  {
   "cell_type": "code",
   "execution_count": 7,
   "metadata": {
    "collapsed": true
   },
   "outputs": [],
   "source": [
    "def impute(cols):\n",
    "    Age=cols[0]\n",
    "    Pclass=cols[1]\n",
    "    if pd.isnull(Age):\n",
    "        if Pclass==1:\n",
    "            return 37\n",
    "        elif Pclass==2:\n",
    "            return 29\n",
    "        else:\n",
    "            return 24\n",
    "    else:\n",
    "        return Age"
   ]
  },
  {
   "cell_type": "code",
   "execution_count": 8,
   "metadata": {
    "collapsed": true
   },
   "outputs": [],
   "source": [
    "dataset['Age']=dataset[['Age','Pclass']].apply(impute,axis=1)\n"
   ]
  },
  {
   "cell_type": "code",
   "execution_count": 9,
   "metadata": {
    "collapsed": true
   },
   "outputs": [],
   "source": [
    "dataset_2['Age']=dataset[['Age','Pclass']].apply(impute,axis=1)\n"
   ]
  },
  {
   "cell_type": "code",
   "execution_count": 10,
   "metadata": {},
   "outputs": [
    {
     "data": {
      "text/plain": [
       "(891, 7)"
      ]
     },
     "execution_count": 10,
     "metadata": {},
     "output_type": "execute_result"
    }
   ],
   "source": [
    "X=dataset.iloc[:,[2,4,5,6,7,9,11]].values\n",
    "X.shape"
   ]
  },
  {
   "cell_type": "code",
   "execution_count": 11,
   "metadata": {},
   "outputs": [
    {
     "data": {
      "text/plain": [
       "(891,)"
      ]
     },
     "execution_count": 11,
     "metadata": {},
     "output_type": "execute_result"
    }
   ],
   "source": [
    "y=dataset.iloc[:,1].values\n",
    "y.shape"
   ]
  },
  {
   "cell_type": "code",
   "execution_count": 12,
   "metadata": {
    "collapsed": true
   },
   "outputs": [],
   "source": [
    "from sklearn.preprocessing import LabelEncoder,OneHotEncoder\n"
   ]
  },
  {
   "cell_type": "code",
   "execution_count": 13,
   "metadata": {
    "collapsed": true
   },
   "outputs": [],
   "source": [
    "X_label_1=LabelEncoder()\n",
    "X_label_2=LabelEncoder()"
   ]
  },
  {
   "cell_type": "code",
   "execution_count": 14,
   "metadata": {
    "collapsed": true
   },
   "outputs": [],
   "source": [
    "X[:,6]=X_label_1.fit_transform(X[:,6])\n",
    "X[:,1]=X_label_1.fit_transform(X[:,1])"
   ]
  },
  {
   "cell_type": "code",
   "execution_count": 15,
   "metadata": {
    "collapsed": true
   },
   "outputs": [],
   "source": [
    "one_hot=OneHotEncoder(categorical_features=[1,6])\n"
   ]
  },
  {
   "cell_type": "code",
   "execution_count": 16,
   "metadata": {
    "collapsed": true
   },
   "outputs": [],
   "source": [
    "X=one_hot.fit_transform(X).toarray()\n"
   ]
  },
  {
   "cell_type": "code",
   "execution_count": 17,
   "metadata": {
    "collapsed": true
   },
   "outputs": [],
   "source": [
    "X=X[:,[1,3,4,5,6,7,8,9]]"
   ]
  },
  {
   "cell_type": "code",
   "execution_count": 18,
   "metadata": {
    "collapsed": true
   },
   "outputs": [],
   "source": [
    "from sklearn.preprocessing import StandardScaler\n"
   ]
  },
  {
   "cell_type": "code",
   "execution_count": 19,
   "metadata": {
    "collapsed": true
   },
   "outputs": [],
   "source": [
    "sc=StandardScaler()\n"
   ]
  },
  {
   "cell_type": "code",
   "execution_count": 20,
   "metadata": {
    "collapsed": true
   },
   "outputs": [],
   "source": [
    "X_train=sc.fit_transform(X)\n"
   ]
  },
  {
   "cell_type": "code",
   "execution_count": 26,
   "metadata": {},
   "outputs": [
    {
     "data": {
      "text/plain": [
       "(891, 8)"
      ]
     },
     "execution_count": 26,
     "metadata": {},
     "output_type": "execute_result"
    }
   ],
   "source": [
    "X_train.shape"
   ]
  },
  {
   "cell_type": "code",
   "execution_count": 23,
   "metadata": {},
   "outputs": [
    {
     "name": "stderr",
     "output_type": "stream",
     "text": [
      "Using TensorFlow backend.\n"
     ]
    }
   ],
   "source": [
    "import keras\n"
   ]
  },
  {
   "cell_type": "code",
   "execution_count": 24,
   "metadata": {
    "collapsed": true
   },
   "outputs": [],
   "source": [
    "from keras.models import Sequential\n",
    "from keras.layers import Dense"
   ]
  },
  {
   "cell_type": "code",
   "execution_count": 25,
   "metadata": {
    "collapsed": true
   },
   "outputs": [],
   "source": [
    "classifier=Sequential()"
   ]
  },
  {
   "cell_type": "code",
   "execution_count": 27,
   "metadata": {},
   "outputs": [
    {
     "name": "stderr",
     "output_type": "stream",
     "text": [
      "/home/dhama/anaconda3/lib/python3.6/site-packages/ipykernel_launcher.py:1: UserWarning: Update your `Dense` call to the Keras 2 API: `Dense(units=5, activation=\"relu\", input_dim=8, kernel_initializer=\"uniform\")`\n",
      "  \"\"\"Entry point for launching an IPython kernel.\n"
     ]
    }
   ],
   "source": [
    "classifier.add(Dense(units=5,init='uniform',activation='relu',input_dim=8))\n"
   ]
  },
  {
   "cell_type": "code",
   "execution_count": 28,
   "metadata": {},
   "outputs": [
    {
     "name": "stderr",
     "output_type": "stream",
     "text": [
      "/home/dhama/anaconda3/lib/python3.6/site-packages/ipykernel_launcher.py:1: UserWarning: Update your `Dense` call to the Keras 2 API: `Dense(units=5, activation=\"relu\", kernel_initializer=\"uniform\")`\n",
      "  \"\"\"Entry point for launching an IPython kernel.\n"
     ]
    }
   ],
   "source": [
    "classifier.add(Dense(units=5,init='uniform',activation='relu'))\n"
   ]
  },
  {
   "cell_type": "code",
   "execution_count": 29,
   "metadata": {},
   "outputs": [
    {
     "name": "stderr",
     "output_type": "stream",
     "text": [
      "/home/dhama/anaconda3/lib/python3.6/site-packages/ipykernel_launcher.py:1: UserWarning: Update your `Dense` call to the Keras 2 API: `Dense(units=1, activation=\"sigmoid\", kernel_initializer=\"uniform\")`\n",
      "  \"\"\"Entry point for launching an IPython kernel.\n"
     ]
    }
   ],
   "source": [
    "classifier.add(Dense(units=1,init='uniform',activation='sigmoid'))\n"
   ]
  },
  {
   "cell_type": "code",
   "execution_count": 30,
   "metadata": {
    "collapsed": true
   },
   "outputs": [],
   "source": [
    "classifier.compile(optimizer='adam',loss='binary_crossentropy',metrics=['accuracy'])\n"
   ]
  },
  {
   "cell_type": "code",
   "execution_count": 31,
   "metadata": {},
   "outputs": [
    {
     "name": "stdout",
     "output_type": "stream",
     "text": [
      "Epoch 1/200\n",
      "891/891 [==============================] - 14s 16ms/step - loss: 0.6887 - acc: 0.6184\n",
      "Epoch 2/200\n",
      "891/891 [==============================] - 0s 475us/step - loss: 0.6583 - acc: 0.6308\n",
      "Epoch 3/200\n",
      "891/891 [==============================] - 0s 461us/step - loss: 0.5860 - acc: 0.7677\n",
      "Epoch 4/200\n",
      "891/891 [==============================] - 0s 445us/step - loss: 0.5169 - acc: 0.8171\n",
      "Epoch 5/200\n",
      "891/891 [==============================] - 0s 446us/step - loss: 0.4806 - acc: 0.8103\n",
      "Epoch 6/200\n",
      "891/891 [==============================] - 0s 437us/step - loss: 0.4613 - acc: 0.8047\n",
      "Epoch 7/200\n",
      "891/891 [==============================] - 0s 481us/step - loss: 0.4501 - acc: 0.8058\n",
      "Epoch 8/200\n",
      "891/891 [==============================] - 0s 474us/step - loss: 0.4442 - acc: 0.8036\n",
      "Epoch 9/200\n",
      "891/891 [==============================] - 0s 458us/step - loss: 0.4403 - acc: 0.8058\n",
      "Epoch 10/200\n",
      "891/891 [==============================] - 0s 449us/step - loss: 0.4363 - acc: 0.8103\n",
      "Epoch 11/200\n",
      "891/891 [==============================] - 0s 470us/step - loss: 0.4337 - acc: 0.8070\n",
      "Epoch 12/200\n",
      "891/891 [==============================] - 0s 466us/step - loss: 0.4318 - acc: 0.8114\n",
      "Epoch 13/200\n",
      "891/891 [==============================] - 0s 491us/step - loss: 0.4308 - acc: 0.8114\n",
      "Epoch 14/200\n",
      "891/891 [==============================] - 0s 551us/step - loss: 0.4283 - acc: 0.8159\n",
      "Epoch 15/200\n",
      "891/891 [==============================] - 1s 604us/step - loss: 0.4271 - acc: 0.8137\n",
      "Epoch 16/200\n",
      "891/891 [==============================] - 1s 584us/step - loss: 0.4272 - acc: 0.8114\n",
      "Epoch 17/200\n",
      "891/891 [==============================] - 0s 525us/step - loss: 0.4256 - acc: 0.8126\n",
      "Epoch 18/200\n",
      "891/891 [==============================] - 1s 1ms/step - loss: 0.4241 - acc: 0.8148\n",
      "Epoch 19/200\n",
      "891/891 [==============================] - 0s 548us/step - loss: 0.4234 - acc: 0.8159\n",
      "Epoch 20/200\n",
      "891/891 [==============================] - 0s 525us/step - loss: 0.4229 - acc: 0.8171\n",
      "Epoch 21/200\n",
      "891/891 [==============================] - 0s 523us/step - loss: 0.4222 - acc: 0.8193\n",
      "Epoch 22/200\n",
      "891/891 [==============================] - 1s 683us/step - loss: 0.4208 - acc: 0.8215\n",
      "Epoch 23/200\n",
      "891/891 [==============================] - 0s 552us/step - loss: 0.4200 - acc: 0.8249\n",
      "Epoch 24/200\n",
      "891/891 [==============================] - 0s 515us/step - loss: 0.4200 - acc: 0.8227\n",
      "Epoch 25/200\n",
      "891/891 [==============================] - 0s 497us/step - loss: 0.4189 - acc: 0.8215\n",
      "Epoch 26/200\n",
      "891/891 [==============================] - 1s 647us/step - loss: 0.4185 - acc: 0.8238\n",
      "Epoch 27/200\n",
      "891/891 [==============================] - 0s 522us/step - loss: 0.4173 - acc: 0.8238\n",
      "Epoch 28/200\n",
      "891/891 [==============================] - 0s 480us/step - loss: 0.4159 - acc: 0.8238\n",
      "Epoch 29/200\n",
      "891/891 [==============================] - 0s 516us/step - loss: 0.4157 - acc: 0.8249\n",
      "Epoch 30/200\n",
      "891/891 [==============================] - 0s 509us/step - loss: 0.4154 - acc: 0.8283\n",
      "Epoch 31/200\n",
      "891/891 [==============================] - 1s 675us/step - loss: 0.4148 - acc: 0.8249\n",
      "Epoch 32/200\n",
      "891/891 [==============================] - 0s 503us/step - loss: 0.4136 - acc: 0.8249\n",
      "Epoch 33/200\n",
      "891/891 [==============================] - 0s 515us/step - loss: 0.4130 - acc: 0.8249\n",
      "Epoch 34/200\n",
      "891/891 [==============================] - 0s 514us/step - loss: 0.4122 - acc: 0.8238\n",
      "Epoch 35/200\n",
      "891/891 [==============================] - 0s 522us/step - loss: 0.4119 - acc: 0.8305\n",
      "Epoch 36/200\n",
      "891/891 [==============================] - 0s 478us/step - loss: 0.4108 - acc: 0.8316\n",
      "Epoch 37/200\n",
      "891/891 [==============================] - 0s 507us/step - loss: 0.4104 - acc: 0.8294\n",
      "Epoch 38/200\n",
      "891/891 [==============================] - 1s 662us/step - loss: 0.4101 - acc: 0.8316\n",
      "Epoch 39/200\n",
      "891/891 [==============================] - 0s 491us/step - loss: 0.4100 - acc: 0.8294\n",
      "Epoch 40/200\n",
      "891/891 [==============================] - 0s 513us/step - loss: 0.4090 - acc: 0.8305\n",
      "Epoch 41/200\n",
      "891/891 [==============================] - 0s 521us/step - loss: 0.4084 - acc: 0.8283\n",
      "Epoch 42/200\n",
      "891/891 [==============================] - 0s 523us/step - loss: 0.4075 - acc: 0.8305\n",
      "Epoch 43/200\n",
      "891/891 [==============================] - 0s 487us/step - loss: 0.4082 - acc: 0.8339\n",
      "Epoch 44/200\n",
      "891/891 [==============================] - 0s 510us/step - loss: 0.4066 - acc: 0.8305\n",
      "Epoch 45/200\n",
      "891/891 [==============================] - 1s 724us/step - loss: 0.4058 - acc: 0.8316\n",
      "Epoch 46/200\n",
      "891/891 [==============================] - 0s 511us/step - loss: 0.4059 - acc: 0.8260\n",
      "Epoch 47/200\n",
      "891/891 [==============================] - 0s 482us/step - loss: 0.4050 - acc: 0.8328\n",
      "Epoch 48/200\n",
      "891/891 [==============================] - 0s 549us/step - loss: 0.4052 - acc: 0.8260\n",
      "Epoch 49/200\n",
      "891/891 [==============================] - 1s 645us/step - loss: 0.4048 - acc: 0.8283\n",
      "Epoch 50/200\n",
      "891/891 [==============================] - 1s 1ms/step - loss: 0.4043 - acc: 0.8294\n",
      "Epoch 51/200\n",
      "891/891 [==============================] - 1s 677us/step - loss: 0.4044 - acc: 0.8294\n",
      "Epoch 52/200\n",
      "891/891 [==============================] - 0s 444us/step - loss: 0.4032 - acc: 0.8305\n",
      "Epoch 53/200\n",
      "891/891 [==============================] - 0s 403us/step - loss: 0.4031 - acc: 0.8305\n",
      "Epoch 54/200\n",
      "891/891 [==============================] - 0s 421us/step - loss: 0.4021 - acc: 0.8316\n",
      "Epoch 55/200\n",
      "891/891 [==============================] - 0s 407us/step - loss: 0.4017 - acc: 0.8305\n",
      "Epoch 56/200\n",
      "891/891 [==============================] - 0s 443us/step - loss: 0.4027 - acc: 0.8283\n",
      "Epoch 57/200\n",
      "891/891 [==============================] - 0s 434us/step - loss: 0.4016 - acc: 0.8294\n",
      "Epoch 58/200\n",
      "891/891 [==============================] - 0s 466us/step - loss: 0.4025 - acc: 0.8294\n",
      "Epoch 59/200\n",
      "891/891 [==============================] - 0s 292us/step - loss: 0.4008 - acc: 0.8305\n",
      "Epoch 60/200\n",
      "891/891 [==============================] - 0s 306us/step - loss: 0.4011 - acc: 0.8316\n",
      "Epoch 61/200\n",
      "891/891 [==============================] - 0s 349us/step - loss: 0.4000 - acc: 0.8305\n",
      "Epoch 62/200\n",
      "891/891 [==============================] - 0s 369us/step - loss: 0.4003 - acc: 0.8339\n",
      "Epoch 63/200\n",
      "891/891 [==============================] - 0s 313us/step - loss: 0.4000 - acc: 0.8328\n",
      "Epoch 64/200\n",
      "891/891 [==============================] - 0s 293us/step - loss: 0.3995 - acc: 0.8316\n",
      "Epoch 65/200\n",
      "891/891 [==============================] - 0s 333us/step - loss: 0.3991 - acc: 0.8328\n",
      "Epoch 66/200\n",
      "891/891 [==============================] - 0s 343us/step - loss: 0.3985 - acc: 0.8361\n",
      "Epoch 67/200\n",
      "891/891 [==============================] - 0s 349us/step - loss: 0.3982 - acc: 0.8316\n",
      "Epoch 68/200\n",
      "891/891 [==============================] - 0s 330us/step - loss: 0.3981 - acc: 0.8294\n",
      "Epoch 69/200\n",
      "891/891 [==============================] - 0s 324us/step - loss: 0.3977 - acc: 0.8350\n",
      "Epoch 70/200\n",
      "891/891 [==============================] - 0s 367us/step - loss: 0.3985 - acc: 0.8316\n",
      "Epoch 71/200\n",
      "891/891 [==============================] - 0s 310us/step - loss: 0.3976 - acc: 0.8316\n",
      "Epoch 72/200\n",
      "891/891 [==============================] - 0s 305us/step - loss: 0.3973 - acc: 0.8283\n",
      "Epoch 73/200\n",
      "891/891 [==============================] - 0s 302us/step - loss: 0.3970 - acc: 0.8328\n",
      "Epoch 74/200\n",
      "891/891 [==============================] - 0s 316us/step - loss: 0.3981 - acc: 0.8361\n",
      "Epoch 75/200\n",
      "891/891 [==============================] - 0s 328us/step - loss: 0.3966 - acc: 0.8384\n",
      "Epoch 76/200\n",
      "891/891 [==============================] - 0s 299us/step - loss: 0.3958 - acc: 0.8384\n",
      "Epoch 77/200\n",
      "891/891 [==============================] - 0s 291us/step - loss: 0.3959 - acc: 0.8350\n",
      "Epoch 78/200\n",
      "891/891 [==============================] - 0s 294us/step - loss: 0.3954 - acc: 0.8350\n",
      "Epoch 79/200\n",
      "891/891 [==============================] - 0s 299us/step - loss: 0.3950 - acc: 0.8373\n",
      "Epoch 80/200\n",
      "891/891 [==============================] - 0s 295us/step - loss: 0.3954 - acc: 0.8361\n",
      "Epoch 81/200\n",
      "891/891 [==============================] - 0s 301us/step - loss: 0.3951 - acc: 0.8316\n",
      "Epoch 82/200\n",
      "891/891 [==============================] - 0s 301us/step - loss: 0.3947 - acc: 0.8373\n",
      "Epoch 83/200\n"
     ]
    },
    {
     "name": "stdout",
     "output_type": "stream",
     "text": [
      "891/891 [==============================] - 0s 311us/step - loss: 0.3949 - acc: 0.8361\n",
      "Epoch 84/200\n",
      "891/891 [==============================] - 0s 290us/step - loss: 0.3944 - acc: 0.8395\n",
      "Epoch 85/200\n",
      "891/891 [==============================] - 0s 289us/step - loss: 0.3939 - acc: 0.8406\n",
      "Epoch 86/200\n",
      "891/891 [==============================] - 0s 290us/step - loss: 0.3939 - acc: 0.8406\n",
      "Epoch 87/200\n",
      "891/891 [==============================] - 0s 292us/step - loss: 0.3938 - acc: 0.8406\n",
      "Epoch 88/200\n",
      "891/891 [==============================] - 0s 300us/step - loss: 0.3935 - acc: 0.8395\n",
      "Epoch 89/200\n",
      "891/891 [==============================] - 0s 289us/step - loss: 0.3931 - acc: 0.8395\n",
      "Epoch 90/200\n",
      "891/891 [==============================] - 0s 304us/step - loss: 0.3941 - acc: 0.8384\n",
      "Epoch 91/200\n",
      "891/891 [==============================] - 0s 287us/step - loss: 0.3934 - acc: 0.8395\n",
      "Epoch 92/200\n",
      "891/891 [==============================] - 0s 295us/step - loss: 0.3929 - acc: 0.8384\n",
      "Epoch 93/200\n",
      "891/891 [==============================] - 0s 292us/step - loss: 0.3939 - acc: 0.8395\n",
      "Epoch 94/200\n",
      "891/891 [==============================] - 0s 291us/step - loss: 0.3936 - acc: 0.8339\n",
      "Epoch 95/200\n",
      "891/891 [==============================] - 0s 323us/step - loss: 0.3922 - acc: 0.8384\n",
      "Epoch 96/200\n",
      "891/891 [==============================] - 0s 374us/step - loss: 0.3927 - acc: 0.8373\n",
      "Epoch 97/200\n",
      "891/891 [==============================] - 0s 288us/step - loss: 0.3918 - acc: 0.8429\n",
      "Epoch 98/200\n",
      "891/891 [==============================] - 0s 299us/step - loss: 0.3926 - acc: 0.8406\n",
      "Epoch 99/200\n",
      "891/891 [==============================] - 0s 291us/step - loss: 0.3929 - acc: 0.8395\n",
      "Epoch 100/200\n",
      "891/891 [==============================] - 0s 290us/step - loss: 0.3919 - acc: 0.8429\n",
      "Epoch 101/200\n",
      "891/891 [==============================] - 0s 290us/step - loss: 0.3917 - acc: 0.8384\n",
      "Epoch 102/200\n",
      "891/891 [==============================] - 0s 291us/step - loss: 0.3911 - acc: 0.8395\n",
      "Epoch 103/200\n",
      "891/891 [==============================] - 0s 292us/step - loss: 0.3909 - acc: 0.8406\n",
      "Epoch 104/200\n",
      "891/891 [==============================] - 0s 288us/step - loss: 0.3915 - acc: 0.8361\n",
      "Epoch 105/200\n",
      "891/891 [==============================] - 0s 299us/step - loss: 0.3906 - acc: 0.8406\n",
      "Epoch 106/200\n",
      "891/891 [==============================] - 0s 291us/step - loss: 0.3916 - acc: 0.8395\n",
      "Epoch 107/200\n",
      "891/891 [==============================] - 0s 291us/step - loss: 0.3913 - acc: 0.8361\n",
      "Epoch 108/200\n",
      "891/891 [==============================] - 0s 292us/step - loss: 0.3912 - acc: 0.8429\n",
      "Epoch 109/200\n",
      "891/891 [==============================] - 0s 292us/step - loss: 0.3912 - acc: 0.8406\n",
      "Epoch 110/200\n",
      "891/891 [==============================] - 0s 290us/step - loss: 0.3910 - acc: 0.8418\n",
      "Epoch 111/200\n",
      "891/891 [==============================] - 0s 301us/step - loss: 0.3906 - acc: 0.8406\n",
      "Epoch 112/200\n",
      "891/891 [==============================] - 0s 293us/step - loss: 0.3908 - acc: 0.8418\n",
      "Epoch 113/200\n",
      "891/891 [==============================] - 0s 300us/step - loss: 0.3909 - acc: 0.8406\n",
      "Epoch 114/200\n",
      "891/891 [==============================] - 0s 292us/step - loss: 0.3901 - acc: 0.8350\n",
      "Epoch 115/200\n",
      "891/891 [==============================] - 0s 293us/step - loss: 0.3906 - acc: 0.8395\n",
      "Epoch 116/200\n",
      "891/891 [==============================] - 0s 294us/step - loss: 0.3901 - acc: 0.8395\n",
      "Epoch 117/200\n",
      "891/891 [==============================] - 0s 294us/step - loss: 0.3900 - acc: 0.8429\n",
      "Epoch 118/200\n",
      "891/891 [==============================] - 0s 291us/step - loss: 0.3902 - acc: 0.8418\n",
      "Epoch 119/200\n",
      "891/891 [==============================] - 0s 291us/step - loss: 0.3904 - acc: 0.8384\n",
      "Epoch 120/200\n",
      "891/891 [==============================] - 0s 289us/step - loss: 0.3899 - acc: 0.8418\n",
      "Epoch 121/200\n",
      "891/891 [==============================] - 0s 302us/step - loss: 0.3907 - acc: 0.8384\n",
      "Epoch 122/200\n",
      "891/891 [==============================] - 0s 296us/step - loss: 0.3892 - acc: 0.8440\n",
      "Epoch 123/200\n",
      "891/891 [==============================] - 0s 293us/step - loss: 0.3891 - acc: 0.8395\n",
      "Epoch 124/200\n",
      "891/891 [==============================] - 0s 301us/step - loss: 0.3888 - acc: 0.8406\n",
      "Epoch 125/200\n",
      "891/891 [==============================] - 0s 298us/step - loss: 0.3897 - acc: 0.8384\n",
      "Epoch 126/200\n",
      "891/891 [==============================] - 0s 292us/step - loss: 0.3888 - acc: 0.8406\n",
      "Epoch 127/200\n",
      "891/891 [==============================] - 0s 286us/step - loss: 0.3896 - acc: 0.8350\n",
      "Epoch 128/200\n",
      "891/891 [==============================] - 0s 302us/step - loss: 0.3886 - acc: 0.8462\n",
      "Epoch 129/200\n",
      "891/891 [==============================] - 0s 299us/step - loss: 0.3894 - acc: 0.8361\n",
      "Epoch 130/200\n",
      "891/891 [==============================] - 0s 296us/step - loss: 0.3886 - acc: 0.8429\n",
      "Epoch 131/200\n",
      "891/891 [==============================] - 0s 534us/step - loss: 0.3884 - acc: 0.8361\n",
      "Epoch 132/200\n",
      "891/891 [==============================] - 0s 529us/step - loss: 0.3883 - acc: 0.8418\n",
      "Epoch 133/200\n",
      "891/891 [==============================] - 0s 480us/step - loss: 0.3890 - acc: 0.8395\n",
      "Epoch 134/200\n",
      "891/891 [==============================] - 0s 324us/step - loss: 0.3885 - acc: 0.8462\n",
      "Epoch 135/200\n",
      "891/891 [==============================] - 0s 523us/step - loss: 0.3886 - acc: 0.8418\n",
      "Epoch 136/200\n",
      "891/891 [==============================] - 0s 544us/step - loss: 0.3876 - acc: 0.8395\n",
      "Epoch 137/200\n",
      "891/891 [==============================] - 1s 635us/step - loss: 0.3883 - acc: 0.8406\n",
      "Epoch 138/200\n",
      "891/891 [==============================] - 0s 431us/step - loss: 0.3873 - acc: 0.8373\n",
      "Epoch 139/200\n",
      "891/891 [==============================] - 1s 798us/step - loss: 0.3876 - acc: 0.8440\n",
      "Epoch 140/200\n",
      "891/891 [==============================] - 1s 928us/step - loss: 0.3879 - acc: 0.8361\n",
      "Epoch 141/200\n",
      "891/891 [==============================] - 1s 695us/step - loss: 0.3878 - acc: 0.8440\n",
      "Epoch 142/200\n",
      "891/891 [==============================] - 1s 582us/step - loss: 0.3887 - acc: 0.8406\n",
      "Epoch 143/200\n",
      "891/891 [==============================] - 1s 677us/step - loss: 0.3885 - acc: 0.8418\n",
      "Epoch 144/200\n",
      "891/891 [==============================] - 0s 524us/step - loss: 0.3867 - acc: 0.8384\n",
      "Epoch 145/200\n",
      "891/891 [==============================] - 0s 515us/step - loss: 0.3866 - acc: 0.8440\n",
      "Epoch 146/200\n",
      "891/891 [==============================] - 1s 656us/step - loss: 0.3869 - acc: 0.8440\n",
      "Epoch 147/200\n",
      "891/891 [==============================] - 1s 629us/step - loss: 0.3873 - acc: 0.8406\n",
      "Epoch 148/200\n",
      "891/891 [==============================] - 0s 483us/step - loss: 0.3871 - acc: 0.8384\n",
      "Epoch 149/200\n",
      "891/891 [==============================] - 1s 637us/step - loss: 0.3867 - acc: 0.8440\n",
      "Epoch 150/200\n",
      "891/891 [==============================] - 1s 691us/step - loss: 0.3866 - acc: 0.8418\n",
      "Epoch 151/200\n",
      "891/891 [==============================] - 0s 504us/step - loss: 0.3865 - acc: 0.8406\n",
      "Epoch 152/200\n",
      "891/891 [==============================] - 1s 733us/step - loss: 0.3857 - acc: 0.8406\n",
      "Epoch 153/200\n",
      "891/891 [==============================] - 1s 733us/step - loss: 0.3872 - acc: 0.8406\n",
      "Epoch 154/200\n",
      "891/891 [==============================] - 1s 693us/step - loss: 0.3864 - acc: 0.8384\n",
      "Epoch 155/200\n",
      "891/891 [==============================] - 1s 682us/step - loss: 0.3857 - acc: 0.8418\n",
      "Epoch 156/200\n",
      "891/891 [==============================] - 1s 595us/step - loss: 0.3858 - acc: 0.8384\n",
      "Epoch 157/200\n",
      "891/891 [==============================] - 1s 631us/step - loss: 0.3862 - acc: 0.8395\n",
      "Epoch 158/200\n",
      "891/891 [==============================] - 0s 497us/step - loss: 0.3859 - acc: 0.8384\n",
      "Epoch 159/200\n",
      "891/891 [==============================] - 1s 639us/step - loss: 0.3860 - acc: 0.8395\n",
      "Epoch 160/200\n",
      "891/891 [==============================] - 1s 621us/step - loss: 0.3862 - acc: 0.8406\n",
      "Epoch 161/200\n",
      "891/891 [==============================] - 0s 495us/step - loss: 0.3851 - acc: 0.8462\n",
      "Epoch 162/200\n",
      "891/891 [==============================] - 0s 503us/step - loss: 0.3852 - acc: 0.8373\n",
      "Epoch 163/200\n",
      "891/891 [==============================] - 0s 518us/step - loss: 0.3853 - acc: 0.8406\n",
      "Epoch 164/200\n",
      "891/891 [==============================] - 0s 497us/step - loss: 0.3858 - acc: 0.8451\n",
      "Epoch 165/200\n"
     ]
    },
    {
     "name": "stdout",
     "output_type": "stream",
     "text": [
      "891/891 [==============================] - 0s 450us/step - loss: 0.3852 - acc: 0.8440\n",
      "Epoch 166/200\n",
      "891/891 [==============================] - 0s 409us/step - loss: 0.3853 - acc: 0.8462\n",
      "Epoch 167/200\n",
      "891/891 [==============================] - 1s 650us/step - loss: 0.3856 - acc: 0.8440\n",
      "Epoch 168/200\n",
      "891/891 [==============================] - 1s 806us/step - loss: 0.3859 - acc: 0.8384\n",
      "Epoch 169/200\n",
      "891/891 [==============================] - 1s 799us/step - loss: 0.3849 - acc: 0.8418\n",
      "Epoch 170/200\n",
      "891/891 [==============================] - 0s 476us/step - loss: 0.3845 - acc: 0.8418\n",
      "Epoch 171/200\n",
      "891/891 [==============================] - 0s 413us/step - loss: 0.3860 - acc: 0.8474\n",
      "Epoch 172/200\n",
      "891/891 [==============================] - 0s 436us/step - loss: 0.3853 - acc: 0.8429\n",
      "Epoch 173/200\n",
      "891/891 [==============================] - 0s 414us/step - loss: 0.3850 - acc: 0.8429\n",
      "Epoch 174/200\n",
      "891/891 [==============================] - 0s 414us/step - loss: 0.3855 - acc: 0.8451\n",
      "Epoch 175/200\n",
      "891/891 [==============================] - 0s 408us/step - loss: 0.3852 - acc: 0.8429\n",
      "Epoch 176/200\n",
      "891/891 [==============================] - 1s 617us/step - loss: 0.3844 - acc: 0.8418\n",
      "Epoch 177/200\n",
      "891/891 [==============================] - 0s 445us/step - loss: 0.3852 - acc: 0.8440\n",
      "Epoch 178/200\n",
      "891/891 [==============================] - 0s 450us/step - loss: 0.3843 - acc: 0.8429\n",
      "Epoch 179/200\n",
      "891/891 [==============================] - 0s 431us/step - loss: 0.3843 - acc: 0.8440\n",
      "Epoch 180/200\n",
      "891/891 [==============================] - 0s 459us/step - loss: 0.3846 - acc: 0.8429\n",
      "Epoch 181/200\n",
      "891/891 [==============================] - 0s 451us/step - loss: 0.3856 - acc: 0.8406\n",
      "Epoch 182/200\n",
      "891/891 [==============================] - 0s 439us/step - loss: 0.3843 - acc: 0.8429\n",
      "Epoch 183/200\n",
      "891/891 [==============================] - 0s 418us/step - loss: 0.3840 - acc: 0.8418\n",
      "Epoch 184/200\n",
      "891/891 [==============================] - 0s 461us/step - loss: 0.3841 - acc: 0.8440\n",
      "Epoch 185/200\n",
      "891/891 [==============================] - 0s 442us/step - loss: 0.3844 - acc: 0.8440\n",
      "Epoch 186/200\n",
      "891/891 [==============================] - 0s 419us/step - loss: 0.3841 - acc: 0.8462\n",
      "Epoch 187/200\n",
      "891/891 [==============================] - 0s 411us/step - loss: 0.3838 - acc: 0.8429\n",
      "Epoch 188/200\n",
      "891/891 [==============================] - 0s 434us/step - loss: 0.3843 - acc: 0.8373\n",
      "Epoch 189/200\n",
      "891/891 [==============================] - 0s 418us/step - loss: 0.3851 - acc: 0.8474\n",
      "Epoch 190/200\n",
      "891/891 [==============================] - 0s 406us/step - loss: 0.3843 - acc: 0.8440\n",
      "Epoch 191/200\n",
      "891/891 [==============================] - 0s 429us/step - loss: 0.3840 - acc: 0.8429\n",
      "Epoch 192/200\n",
      "891/891 [==============================] - 0s 432us/step - loss: 0.3834 - acc: 0.8418\n",
      "Epoch 193/200\n",
      "891/891 [==============================] - 0s 427us/step - loss: 0.3851 - acc: 0.8373\n",
      "Epoch 194/200\n",
      "891/891 [==============================] - 0s 425us/step - loss: 0.3836 - acc: 0.8418\n",
      "Epoch 195/200\n",
      "891/891 [==============================] - 0s 420us/step - loss: 0.3840 - acc: 0.8373\n",
      "Epoch 196/200\n",
      "891/891 [==============================] - 0s 446us/step - loss: 0.3837 - acc: 0.8418\n",
      "Epoch 197/200\n",
      "891/891 [==============================] - 0s 456us/step - loss: 0.3842 - acc: 0.8373\n",
      "Epoch 198/200\n",
      "891/891 [==============================] - 0s 401us/step - loss: 0.3841 - acc: 0.8418\n",
      "Epoch 199/200\n",
      "891/891 [==============================] - 0s 432us/step - loss: 0.3834 - acc: 0.8451\n",
      "Epoch 200/200\n",
      "891/891 [==============================] - 0s 414us/step - loss: 0.3836 - acc: 0.8462\n"
     ]
    },
    {
     "data": {
      "text/plain": [
       "<keras.callbacks.History at 0x7fdbe3428208>"
      ]
     },
     "execution_count": 31,
     "metadata": {},
     "output_type": "execute_result"
    }
   ],
   "source": [
    "classifier.fit(X_train,y,batch_size=10,epochs=200)\n"
   ]
  },
  {
   "cell_type": "code",
   "execution_count": 32,
   "metadata": {
    "collapsed": true
   },
   "outputs": [],
   "source": [
    "X_label_test_1=LabelEncoder()\n",
    "X_label_test_2=LabelEncoder()"
   ]
  },
  {
   "cell_type": "code",
   "execution_count": 45,
   "metadata": {},
   "outputs": [
    {
     "data": {
      "text/plain": [
       "True"
      ]
     },
     "execution_count": 45,
     "metadata": {},
     "output_type": "execute_result"
    }
   ],
   "source": [
    "dataset_2.iloc[:,9].isnull().values.any()"
   ]
  },
  {
   "cell_type": "code",
   "execution_count": 34,
   "metadata": {
    "collapsed": true
   },
   "outputs": [],
   "source": [
    "dataset_2.iloc[:,8]=dataset_2.iloc[:,8].fillna(value=11.00)                "
   ]
  },
  {
   "cell_type": "code",
   "execution_count": 47,
   "metadata": {},
   "outputs": [
    {
     "data": {
      "text/html": [
       "<div>\n",
       "<style>\n",
       "    .dataframe thead tr:only-child th {\n",
       "        text-align: right;\n",
       "    }\n",
       "\n",
       "    .dataframe thead th {\n",
       "        text-align: left;\n",
       "    }\n",
       "\n",
       "    .dataframe tbody tr th {\n",
       "        vertical-align: top;\n",
       "    }\n",
       "</style>\n",
       "<table border=\"1\" class=\"dataframe\">\n",
       "  <thead>\n",
       "    <tr style=\"text-align: right;\">\n",
       "      <th></th>\n",
       "      <th>PassengerId</th>\n",
       "      <th>Pclass</th>\n",
       "      <th>Name</th>\n",
       "      <th>Sex</th>\n",
       "      <th>Age</th>\n",
       "      <th>SibSp</th>\n",
       "      <th>Parch</th>\n",
       "      <th>Ticket</th>\n",
       "      <th>Fare</th>\n",
       "      <th>Cabin</th>\n",
       "      <th>Embarked</th>\n",
       "    </tr>\n",
       "  </thead>\n",
       "  <tbody>\n",
       "    <tr>\n",
       "      <th>0</th>\n",
       "      <td>892</td>\n",
       "      <td>3</td>\n",
       "      <td>Kelly, Mr. James</td>\n",
       "      <td>male</td>\n",
       "      <td>22.0</td>\n",
       "      <td>0</td>\n",
       "      <td>0</td>\n",
       "      <td>330911</td>\n",
       "      <td>7.8292</td>\n",
       "      <td>NaN</td>\n",
       "      <td>S</td>\n",
       "    </tr>\n",
       "    <tr>\n",
       "      <th>1</th>\n",
       "      <td>893</td>\n",
       "      <td>3</td>\n",
       "      <td>Wilkes, Mrs. James (Ellen Needs)</td>\n",
       "      <td>female</td>\n",
       "      <td>38.0</td>\n",
       "      <td>1</td>\n",
       "      <td>0</td>\n",
       "      <td>363272</td>\n",
       "      <td>7.0000</td>\n",
       "      <td>NaN</td>\n",
       "      <td>C</td>\n",
       "    </tr>\n",
       "    <tr>\n",
       "      <th>2</th>\n",
       "      <td>894</td>\n",
       "      <td>2</td>\n",
       "      <td>Myles, Mr. Thomas Francis</td>\n",
       "      <td>male</td>\n",
       "      <td>26.0</td>\n",
       "      <td>0</td>\n",
       "      <td>0</td>\n",
       "      <td>240276</td>\n",
       "      <td>9.6875</td>\n",
       "      <td>NaN</td>\n",
       "      <td>S</td>\n",
       "    </tr>\n",
       "    <tr>\n",
       "      <th>3</th>\n",
       "      <td>895</td>\n",
       "      <td>3</td>\n",
       "      <td>Wirz, Mr. Albert</td>\n",
       "      <td>male</td>\n",
       "      <td>35.0</td>\n",
       "      <td>0</td>\n",
       "      <td>0</td>\n",
       "      <td>315154</td>\n",
       "      <td>8.6625</td>\n",
       "      <td>NaN</td>\n",
       "      <td>S</td>\n",
       "    </tr>\n",
       "    <tr>\n",
       "      <th>4</th>\n",
       "      <td>896</td>\n",
       "      <td>3</td>\n",
       "      <td>Hirvonen, Mrs. Alexander (Helga E Lindqvist)</td>\n",
       "      <td>female</td>\n",
       "      <td>35.0</td>\n",
       "      <td>1</td>\n",
       "      <td>1</td>\n",
       "      <td>3101298</td>\n",
       "      <td>12.2875</td>\n",
       "      <td>NaN</td>\n",
       "      <td>S</td>\n",
       "    </tr>\n",
       "  </tbody>\n",
       "</table>\n",
       "</div>"
      ],
      "text/plain": [
       "   PassengerId  Pclass                                          Name     Sex  \\\n",
       "0          892       3                              Kelly, Mr. James    male   \n",
       "1          893       3              Wilkes, Mrs. James (Ellen Needs)  female   \n",
       "2          894       2                     Myles, Mr. Thomas Francis    male   \n",
       "3          895       3                              Wirz, Mr. Albert    male   \n",
       "4          896       3  Hirvonen, Mrs. Alexander (Helga E Lindqvist)  female   \n",
       "\n",
       "    Age  SibSp  Parch   Ticket     Fare Cabin Embarked  \n",
       "0  22.0      0      0   330911   7.8292   NaN        S  \n",
       "1  38.0      1      0   363272   7.0000   NaN        C  \n",
       "2  26.0      0      0   240276   9.6875   NaN        S  \n",
       "3  35.0      0      0   315154   8.6625   NaN        S  \n",
       "4  35.0      1      1  3101298  12.2875   NaN        S  "
      ]
     },
     "execution_count": 47,
     "metadata": {},
     "output_type": "execute_result"
    }
   ],
   "source": [
    "dataset_2.head()"
   ]
  },
  {
   "cell_type": "code",
   "execution_count": 48,
   "metadata": {},
   "outputs": [],
   "source": [
    "x_new=dataset_2.iloc[:,[1,3,4,5,6,8,10]].values"
   ]
  },
  {
   "cell_type": "code",
   "execution_count": 49,
   "metadata": {
    "collapsed": true
   },
   "outputs": [],
   "source": [
    "x_new[:,6]=X_label_test_1.fit_transform(x_new[:,6])\n",
    "x_new[:,1]=X_label_test_2.fit_transform(x_new[:,1])"
   ]
  },
  {
   "cell_type": "code",
   "execution_count": 50,
   "metadata": {
    "collapsed": true
   },
   "outputs": [],
   "source": [
    "one_hot_2=OneHotEncoder(categorical_features=[1,6])"
   ]
  },
  {
   "cell_type": "code",
   "execution_count": 51,
   "metadata": {
    "collapsed": true
   },
   "outputs": [],
   "source": [
    "x_new=one_hot_2.fit_transform(x_new).toarray()\n"
   ]
  },
  {
   "cell_type": "code",
   "execution_count": 78,
   "metadata": {},
   "outputs": [
    {
     "data": {
      "text/plain": [
       "array([[ 0.75592895, -0.32977768,  0.63828474, ..., -0.49947002,\n",
       "        -0.4002477 , -0.49723503],\n",
       "       [-1.32287566, -0.32977768, -1.5666989 , ...,  0.61699237,\n",
       "        -0.4002477 , -0.5120988 ],\n",
       "       [ 0.75592895, -0.32977768,  0.63828474, ..., -0.49947002,\n",
       "        -0.4002477 , -0.46392419],\n",
       "       ..., \n",
       "       [ 0.75592895, -0.32977768,  0.63828474, ..., -0.49947002,\n",
       "        -0.4002477 , -0.50761744],\n",
       "       [ 0.75592895, -0.32977768,  0.63828474, ..., -0.49947002,\n",
       "        -0.4002477 , -0.49327709],\n",
       "       [ 0.75592895, -0.32977768,  0.63828474, ...,  0.61699237,\n",
       "         0.61989583, -0.23679454]])"
      ]
     },
     "execution_count": 78,
     "metadata": {},
     "output_type": "execute_result"
    }
   ],
   "source": [
    "x_new"
   ]
  },
  {
   "cell_type": "code",
   "execution_count": 53,
   "metadata": {
    "collapsed": true
   },
   "outputs": [],
   "source": [
    "x_new=x_new[:,[1,3,4,5,6,7,8,9]]"
   ]
  },
  {
   "cell_type": "code",
   "execution_count": 77,
   "metadata": {},
   "outputs": [
    {
     "data": {
      "text/plain": [
       "(891, 8)"
      ]
     },
     "execution_count": 77,
     "metadata": {},
     "output_type": "execute_result"
    }
   ],
   "source": [
    "X_train.shape"
   ]
  },
  {
   "cell_type": "code",
   "execution_count": 79,
   "metadata": {
    "collapsed": true
   },
   "outputs": [],
   "source": [
    "y_pred=classifier.predict(x_new)\n"
   ]
  },
  {
   "cell_type": "code",
   "execution_count": 94,
   "metadata": {},
   "outputs": [],
   "source": [
    "y_pred=y_pred>0.2"
   ]
  },
  {
   "cell_type": "code",
   "execution_count": 95,
   "metadata": {},
   "outputs": [
    {
     "data": {
      "text/plain": [
       "array([[False],\n",
       "       [False],\n",
       "       [False],\n",
       "       [False],\n",
       "       [False],\n",
       "       [False],\n",
       "       [ True],\n",
       "       [ True],\n",
       "       [False],\n",
       "       [False],\n",
       "       [False],\n",
       "       [False],\n",
       "       [ True],\n",
       "       [False],\n",
       "       [ True],\n",
       "       [ True],\n",
       "       [False],\n",
       "       [False],\n",
       "       [False],\n",
       "       [ True],\n",
       "       [False],\n",
       "       [False],\n",
       "       [ True],\n",
       "       [False],\n",
       "       [ True],\n",
       "       [False],\n",
       "       [ True],\n",
       "       [False],\n",
       "       [ True],\n",
       "       [False],\n",
       "       [False],\n",
       "       [False],\n",
       "       [False],\n",
       "       [False],\n",
       "       [ True],\n",
       "       [False],\n",
       "       [ True],\n",
       "       [False],\n",
       "       [False],\n",
       "       [False],\n",
       "       [False],\n",
       "       [False],\n",
       "       [False],\n",
       "       [ True],\n",
       "       [ True],\n",
       "       [False],\n",
       "       [ True],\n",
       "       [False],\n",
       "       [ True],\n",
       "       [ True],\n",
       "       [ True],\n",
       "       [False],\n",
       "       [ True],\n",
       "       [ True],\n",
       "       [False],\n",
       "       [False],\n",
       "       [False],\n",
       "       [False],\n",
       "       [False],\n",
       "       [ True],\n",
       "       [False],\n",
       "       [False],\n",
       "       [False],\n",
       "       [ True],\n",
       "       [False],\n",
       "       [ True],\n",
       "       [False],\n",
       "       [False],\n",
       "       [False],\n",
       "       [ True],\n",
       "       [False],\n",
       "       [False],\n",
       "       [False],\n",
       "       [False],\n",
       "       [ True],\n",
       "       [False],\n",
       "       [False],\n",
       "       [ True],\n",
       "       [ True],\n",
       "       [False],\n",
       "       [False],\n",
       "       [ True],\n",
       "       [ True],\n",
       "       [False],\n",
       "       [False],\n",
       "       [False],\n",
       "       [False],\n",
       "       [False],\n",
       "       [False],\n",
       "       [False],\n",
       "       [False],\n",
       "       [False],\n",
       "       [ True],\n",
       "       [False],\n",
       "       [False],\n",
       "       [False],\n",
       "       [ True],\n",
       "       [False],\n",
       "       [False],\n",
       "       [False],\n",
       "       [ True],\n",
       "       [False],\n",
       "       [False],\n",
       "       [False],\n",
       "       [False],\n",
       "       [False],\n",
       "       [False],\n",
       "       [False],\n",
       "       [False],\n",
       "       [False],\n",
       "       [False],\n",
       "       [ True],\n",
       "       [ True],\n",
       "       [False],\n",
       "       [ True],\n",
       "       [False],\n",
       "       [False],\n",
       "       [False],\n",
       "       [False],\n",
       "       [ True],\n",
       "       [ True],\n",
       "       [False],\n",
       "       [ True],\n",
       "       [False],\n",
       "       [False],\n",
       "       [ True],\n",
       "       [False],\n",
       "       [False],\n",
       "       [False],\n",
       "       [False],\n",
       "       [False],\n",
       "       [False],\n",
       "       [False],\n",
       "       [False],\n",
       "       [False],\n",
       "       [False],\n",
       "       [False],\n",
       "       [False],\n",
       "       [False],\n",
       "       [False],\n",
       "       [False],\n",
       "       [ True],\n",
       "       [False],\n",
       "       [False],\n",
       "       [False],\n",
       "       [False],\n",
       "       [False],\n",
       "       [False],\n",
       "       [False],\n",
       "       [False],\n",
       "       [ True],\n",
       "       [False],\n",
       "       [False],\n",
       "       [False],\n",
       "       [False],\n",
       "       [False],\n",
       "       [ True],\n",
       "       [False],\n",
       "       [False],\n",
       "       [False],\n",
       "       [False],\n",
       "       [False],\n",
       "       [ True],\n",
       "       [False],\n",
       "       [ True],\n",
       "       [False],\n",
       "       [False],\n",
       "       [False],\n",
       "       [ True],\n",
       "       [False],\n",
       "       [False],\n",
       "       [False],\n",
       "       [False],\n",
       "       [False],\n",
       "       [False],\n",
       "       [ True],\n",
       "       [ True],\n",
       "       [False],\n",
       "       [ True],\n",
       "       [ True],\n",
       "       [False],\n",
       "       [ True],\n",
       "       [ True],\n",
       "       [ True],\n",
       "       [ True],\n",
       "       [False],\n",
       "       [ True],\n",
       "       [False],\n",
       "       [False],\n",
       "       [False],\n",
       "       [False],\n",
       "       [False],\n",
       "       [False],\n",
       "       [ True],\n",
       "       [False],\n",
       "       [False],\n",
       "       [False],\n",
       "       [False],\n",
       "       [False],\n",
       "       [False],\n",
       "       [False],\n",
       "       [False],\n",
       "       [ True],\n",
       "       [ True],\n",
       "       [False],\n",
       "       [ True],\n",
       "       [False],\n",
       "       [False],\n",
       "       [ True],\n",
       "       [False],\n",
       "       [False],\n",
       "       [False],\n",
       "       [False],\n",
       "       [ True],\n",
       "       [False],\n",
       "       [False],\n",
       "       [False],\n",
       "       [False],\n",
       "       [ True],\n",
       "       [False],\n",
       "       [ True],\n",
       "       [False],\n",
       "       [ True],\n",
       "       [False],\n",
       "       [ True],\n",
       "       [False],\n",
       "       [False],\n",
       "       [False],\n",
       "       [False],\n",
       "       [False],\n",
       "       [False],\n",
       "       [ True],\n",
       "       [False],\n",
       "       [False],\n",
       "       [ True],\n",
       "       [False],\n",
       "       [False],\n",
       "       [False],\n",
       "       [ True],\n",
       "       [ True],\n",
       "       [ True],\n",
       "       [ True],\n",
       "       [False],\n",
       "       [False],\n",
       "       [False],\n",
       "       [False],\n",
       "       [ True],\n",
       "       [False],\n",
       "       [ True],\n",
       "       [ True],\n",
       "       [ True],\n",
       "       [False],\n",
       "       [ True],\n",
       "       [False],\n",
       "       [False],\n",
       "       [False],\n",
       "       [False],\n",
       "       [False],\n",
       "       [ True],\n",
       "       [False],\n",
       "       [False],\n",
       "       [ True],\n",
       "       [ True],\n",
       "       [False],\n",
       "       [False],\n",
       "       [False],\n",
       "       [ True],\n",
       "       [False],\n",
       "       [ True],\n",
       "       [False],\n",
       "       [False],\n",
       "       [False],\n",
       "       [ True],\n",
       "       [False],\n",
       "       [False],\n",
       "       [ True],\n",
       "       [False],\n",
       "       [False],\n",
       "       [False],\n",
       "       [False],\n",
       "       [ True],\n",
       "       [False],\n",
       "       [False],\n",
       "       [False],\n",
       "       [False],\n",
       "       [False],\n",
       "       [False],\n",
       "       [ True],\n",
       "       [False],\n",
       "       [False],\n",
       "       [False],\n",
       "       [ True],\n",
       "       [False],\n",
       "       [ True],\n",
       "       [False],\n",
       "       [False],\n",
       "       [ True],\n",
       "       [False],\n",
       "       [False],\n",
       "       [False],\n",
       "       [False],\n",
       "       [False],\n",
       "       [False],\n",
       "       [False],\n",
       "       [False],\n",
       "       [ True],\n",
       "       [False],\n",
       "       [ True],\n",
       "       [False],\n",
       "       [False],\n",
       "       [False],\n",
       "       [False],\n",
       "       [False],\n",
       "       [False],\n",
       "       [ True],\n",
       "       [False],\n",
       "       [False],\n",
       "       [False],\n",
       "       [False],\n",
       "       [False],\n",
       "       [False],\n",
       "       [False],\n",
       "       [False],\n",
       "       [False],\n",
       "       [ True],\n",
       "       [False],\n",
       "       [ True],\n",
       "       [False],\n",
       "       [False],\n",
       "       [ True],\n",
       "       [ True],\n",
       "       [False],\n",
       "       [False],\n",
       "       [False],\n",
       "       [False],\n",
       "       [False],\n",
       "       [False],\n",
       "       [False],\n",
       "       [False],\n",
       "       [False],\n",
       "       [ True],\n",
       "       [False],\n",
       "       [False],\n",
       "       [ True],\n",
       "       [False],\n",
       "       [False],\n",
       "       [False],\n",
       "       [False],\n",
       "       [ True],\n",
       "       [ True],\n",
       "       [ True],\n",
       "       [False],\n",
       "       [False],\n",
       "       [False],\n",
       "       [False],\n",
       "       [False],\n",
       "       [ True],\n",
       "       [False],\n",
       "       [False],\n",
       "       [ True],\n",
       "       [False],\n",
       "       [ True],\n",
       "       [ True],\n",
       "       [False],\n",
       "       [ True],\n",
       "       [False],\n",
       "       [False],\n",
       "       [False],\n",
       "       [ True],\n",
       "       [False],\n",
       "       [False],\n",
       "       [ True],\n",
       "       [False],\n",
       "       [False],\n",
       "       [ True],\n",
       "       [ True],\n",
       "       [False],\n",
       "       [False],\n",
       "       [ True],\n",
       "       [False],\n",
       "       [False],\n",
       "       [ True],\n",
       "       [False],\n",
       "       [False],\n",
       "       [False],\n",
       "       [ True],\n",
       "       [ True],\n",
       "       [False],\n",
       "       [False],\n",
       "       [False],\n",
       "       [False],\n",
       "       [ True],\n",
       "       [False],\n",
       "       [False],\n",
       "       [False],\n",
       "       [ True],\n",
       "       [False],\n",
       "       [ True],\n",
       "       [False],\n",
       "       [False],\n",
       "       [ True],\n",
       "       [False],\n",
       "       [ True],\n",
       "       [False],\n",
       "       [ True],\n",
       "       [False],\n",
       "       [False],\n",
       "       [False],\n",
       "       [False],\n",
       "       [False],\n",
       "       [False],\n",
       "       [ True],\n",
       "       [ True],\n",
       "       [False],\n",
       "       [ True],\n",
       "       [False],\n",
       "       [False],\n",
       "       [False]], dtype=bool)"
      ]
     },
     "execution_count": 95,
     "metadata": {},
     "output_type": "execute_result"
    }
   ],
   "source": [
    "y_pred"
   ]
  },
  {
   "cell_type": "code",
   "execution_count": 98,
   "metadata": {},
   "outputs": [],
   "source": [
    "df1=pd.DataFrame(y_pred,dataset_2['PassengerId'],dtype=int)"
   ]
  },
  {
   "cell_type": "code",
   "execution_count": 90,
   "metadata": {},
   "outputs": [
    {
     "data": {
      "text/html": [
       "<div>\n",
       "<style>\n",
       "    .dataframe thead tr:only-child th {\n",
       "        text-align: right;\n",
       "    }\n",
       "\n",
       "    .dataframe thead th {\n",
       "        text-align: left;\n",
       "    }\n",
       "\n",
       "    .dataframe tbody tr th {\n",
       "        vertical-align: top;\n",
       "    }\n",
       "</style>\n",
       "<table border=\"1\" class=\"dataframe\">\n",
       "  <thead>\n",
       "    <tr style=\"text-align: right;\">\n",
       "      <th></th>\n",
       "      <th>0</th>\n",
       "    </tr>\n",
       "    <tr>\n",
       "      <th>PassengerId</th>\n",
       "      <th></th>\n",
       "    </tr>\n",
       "  </thead>\n",
       "  <tbody>\n",
       "    <tr>\n",
       "      <th>892</th>\n",
       "      <td>0</td>\n",
       "    </tr>\n",
       "    <tr>\n",
       "      <th>893</th>\n",
       "      <td>0</td>\n",
       "    </tr>\n",
       "    <tr>\n",
       "      <th>894</th>\n",
       "      <td>0</td>\n",
       "    </tr>\n",
       "    <tr>\n",
       "      <th>895</th>\n",
       "      <td>0</td>\n",
       "    </tr>\n",
       "    <tr>\n",
       "      <th>896</th>\n",
       "      <td>0</td>\n",
       "    </tr>\n",
       "    <tr>\n",
       "      <th>897</th>\n",
       "      <td>0</td>\n",
       "    </tr>\n",
       "    <tr>\n",
       "      <th>898</th>\n",
       "      <td>1</td>\n",
       "    </tr>\n",
       "    <tr>\n",
       "      <th>899</th>\n",
       "      <td>1</td>\n",
       "    </tr>\n",
       "    <tr>\n",
       "      <th>900</th>\n",
       "      <td>0</td>\n",
       "    </tr>\n",
       "    <tr>\n",
       "      <th>901</th>\n",
       "      <td>0</td>\n",
       "    </tr>\n",
       "  </tbody>\n",
       "</table>\n",
       "</div>"
      ],
      "text/plain": [
       "             0\n",
       "PassengerId   \n",
       "892          0\n",
       "893          0\n",
       "894          0\n",
       "895          0\n",
       "896          0\n",
       "897          0\n",
       "898          1\n",
       "899          1\n",
       "900          0\n",
       "901          0"
      ]
     },
     "execution_count": 90,
     "metadata": {},
     "output_type": "execute_result"
    }
   ],
   "source": [
    "df1.head(10)"
   ]
  },
  {
   "cell_type": "code",
   "execution_count": 69,
   "metadata": {},
   "outputs": [],
   "source": [
    "l=np.ones(418)"
   ]
  },
  {
   "cell_type": "code",
   "execution_count": 100,
   "metadata": {
    "collapsed": true
   },
   "outputs": [],
   "source": [
    "df1.to_csv('final_5.csv',sep=',')"
   ]
  },
  {
   "cell_type": "code",
   "execution_count": 76,
   "metadata": {
    "collapsed": true
   },
   "outputs": [],
   "source": [
    "x_new=sc.fit_transform(x_new)\n"
   ]
  },
  {
   "cell_type": "code",
   "execution_count": null,
   "metadata": {
    "collapsed": true
   },
   "outputs": [],
   "source": []
  }
 ],
 "metadata": {
  "kernelspec": {
   "display_name": "Python 3",
   "language": "python",
   "name": "python3"
  },
  "language_info": {
   "codemirror_mode": {
    "name": "ipython",
    "version": 3
   },
   "file_extension": ".py",
   "mimetype": "text/x-python",
   "name": "python",
   "nbconvert_exporter": "python",
   "pygments_lexer": "ipython3",
   "version": "3.6.3"
  }
 },
 "nbformat": 4,
 "nbformat_minor": 2
}
