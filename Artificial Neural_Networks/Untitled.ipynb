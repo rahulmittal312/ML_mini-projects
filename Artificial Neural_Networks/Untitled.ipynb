{
 "cells": [
  {
   "cell_type": "code",
   "execution_count": 1,
   "metadata": {
    "collapsed": true
   },
   "outputs": [],
   "source": [
    "import numpy as np\n",
    "import pandas as pd\n",
    "import matplotlib.pyplot as plt\n",
    "%matplotlib inline"
   ]
  },
  {
   "cell_type": "code",
   "execution_count": 2,
   "metadata": {
    "collapsed": true
   },
   "outputs": [],
   "source": [
    "dataset=pd.read_csv('Churn_Modelling.csv')"
   ]
  },
  {
   "cell_type": "code",
   "execution_count": 6,
   "metadata": {},
   "outputs": [
    {
     "data": {
      "text/html": [
       "<div>\n",
       "<style>\n",
       "    .dataframe thead tr:only-child th {\n",
       "        text-align: right;\n",
       "    }\n",
       "\n",
       "    .dataframe thead th {\n",
       "        text-align: left;\n",
       "    }\n",
       "\n",
       "    .dataframe tbody tr th {\n",
       "        vertical-align: top;\n",
       "    }\n",
       "</style>\n",
       "<table border=\"1\" class=\"dataframe\">\n",
       "  <thead>\n",
       "    <tr style=\"text-align: right;\">\n",
       "      <th></th>\n",
       "      <th>RowNumber</th>\n",
       "      <th>CustomerId</th>\n",
       "      <th>Surname</th>\n",
       "      <th>CreditScore</th>\n",
       "      <th>Geography</th>\n",
       "      <th>Gender</th>\n",
       "      <th>Age</th>\n",
       "      <th>Tenure</th>\n",
       "      <th>Balance</th>\n",
       "      <th>NumOfProducts</th>\n",
       "      <th>HasCrCard</th>\n",
       "      <th>IsActiveMember</th>\n",
       "      <th>EstimatedSalary</th>\n",
       "      <th>Exited</th>\n",
       "    </tr>\n",
       "  </thead>\n",
       "  <tbody>\n",
       "    <tr>\n",
       "      <th>0</th>\n",
       "      <td>1</td>\n",
       "      <td>15634602</td>\n",
       "      <td>Hargrave</td>\n",
       "      <td>619</td>\n",
       "      <td>France</td>\n",
       "      <td>Female</td>\n",
       "      <td>42</td>\n",
       "      <td>2</td>\n",
       "      <td>0.00</td>\n",
       "      <td>1</td>\n",
       "      <td>1</td>\n",
       "      <td>1</td>\n",
       "      <td>101348.88</td>\n",
       "      <td>1</td>\n",
       "    </tr>\n",
       "    <tr>\n",
       "      <th>1</th>\n",
       "      <td>2</td>\n",
       "      <td>15647311</td>\n",
       "      <td>Hill</td>\n",
       "      <td>608</td>\n",
       "      <td>Spain</td>\n",
       "      <td>Female</td>\n",
       "      <td>41</td>\n",
       "      <td>1</td>\n",
       "      <td>83807.86</td>\n",
       "      <td>1</td>\n",
       "      <td>0</td>\n",
       "      <td>1</td>\n",
       "      <td>112542.58</td>\n",
       "      <td>0</td>\n",
       "    </tr>\n",
       "    <tr>\n",
       "      <th>2</th>\n",
       "      <td>3</td>\n",
       "      <td>15619304</td>\n",
       "      <td>Onio</td>\n",
       "      <td>502</td>\n",
       "      <td>France</td>\n",
       "      <td>Female</td>\n",
       "      <td>42</td>\n",
       "      <td>8</td>\n",
       "      <td>159660.80</td>\n",
       "      <td>3</td>\n",
       "      <td>1</td>\n",
       "      <td>0</td>\n",
       "      <td>113931.57</td>\n",
       "      <td>1</td>\n",
       "    </tr>\n",
       "    <tr>\n",
       "      <th>3</th>\n",
       "      <td>4</td>\n",
       "      <td>15701354</td>\n",
       "      <td>Boni</td>\n",
       "      <td>699</td>\n",
       "      <td>France</td>\n",
       "      <td>Female</td>\n",
       "      <td>39</td>\n",
       "      <td>1</td>\n",
       "      <td>0.00</td>\n",
       "      <td>2</td>\n",
       "      <td>0</td>\n",
       "      <td>0</td>\n",
       "      <td>93826.63</td>\n",
       "      <td>0</td>\n",
       "    </tr>\n",
       "    <tr>\n",
       "      <th>4</th>\n",
       "      <td>5</td>\n",
       "      <td>15737888</td>\n",
       "      <td>Mitchell</td>\n",
       "      <td>850</td>\n",
       "      <td>Spain</td>\n",
       "      <td>Female</td>\n",
       "      <td>43</td>\n",
       "      <td>2</td>\n",
       "      <td>125510.82</td>\n",
       "      <td>1</td>\n",
       "      <td>1</td>\n",
       "      <td>1</td>\n",
       "      <td>79084.10</td>\n",
       "      <td>0</td>\n",
       "    </tr>\n",
       "  </tbody>\n",
       "</table>\n",
       "</div>"
      ],
      "text/plain": [
       "   RowNumber  CustomerId   Surname  CreditScore Geography  Gender  Age  \\\n",
       "0          1    15634602  Hargrave          619    France  Female   42   \n",
       "1          2    15647311      Hill          608     Spain  Female   41   \n",
       "2          3    15619304      Onio          502    France  Female   42   \n",
       "3          4    15701354      Boni          699    France  Female   39   \n",
       "4          5    15737888  Mitchell          850     Spain  Female   43   \n",
       "\n",
       "   Tenure    Balance  NumOfProducts  HasCrCard  IsActiveMember  \\\n",
       "0       2       0.00              1          1               1   \n",
       "1       1   83807.86              1          0               1   \n",
       "2       8  159660.80              3          1               0   \n",
       "3       1       0.00              2          0               0   \n",
       "4       2  125510.82              1          1               1   \n",
       "\n",
       "   EstimatedSalary  Exited  \n",
       "0        101348.88       1  \n",
       "1        112542.58       0  \n",
       "2        113931.57       1  \n",
       "3         93826.63       0  \n",
       "4         79084.10       0  "
      ]
     },
     "execution_count": 6,
     "metadata": {},
     "output_type": "execute_result"
    }
   ],
   "source": [
    "dataset.head()"
   ]
  },
  {
   "cell_type": "code",
   "execution_count": 7,
   "metadata": {
    "collapsed": true
   },
   "outputs": [],
   "source": [
    "X=dataset.iloc[:,3:13].values"
   ]
  },
  {
   "cell_type": "code",
   "execution_count": 8,
   "metadata": {
    "collapsed": true
   },
   "outputs": [],
   "source": [
    "y=dataset.iloc[:,13].values"
   ]
  },
  {
   "cell_type": "code",
   "execution_count": 9,
   "metadata": {
    "collapsed": true
   },
   "outputs": [],
   "source": [
    "from sklearn.preprocessing import LabelEncoder,OneHotEncoder"
   ]
  },
  {
   "cell_type": "code",
   "execution_count": 10,
   "metadata": {
    "collapsed": true
   },
   "outputs": [],
   "source": [
    "label_x=LabelEncoder()"
   ]
  },
  {
   "cell_type": "code",
   "execution_count": 11,
   "metadata": {
    "collapsed": true
   },
   "outputs": [],
   "source": [
    "label_x2=LabelEncoder()"
   ]
  },
  {
   "cell_type": "code",
   "execution_count": 12,
   "metadata": {
    "collapsed": true
   },
   "outputs": [],
   "source": [
    "X[:,1]=label_x.fit_transform(X[:,1])"
   ]
  },
  {
   "cell_type": "code",
   "execution_count": 13,
   "metadata": {
    "collapsed": true
   },
   "outputs": [],
   "source": [
    "X[:,2]=label_x2.fit_transform(X[:,2])"
   ]
  },
  {
   "cell_type": "code",
   "execution_count": 14,
   "metadata": {
    "collapsed": true
   },
   "outputs": [],
   "source": [
    "one=OneHotEncoder(categorical_features=[1])"
   ]
  },
  {
   "cell_type": "code",
   "execution_count": 15,
   "metadata": {
    "collapsed": true
   },
   "outputs": [],
   "source": [
    "X=one.fit_transform(X).toarray()"
   ]
  },
  {
   "cell_type": "code",
   "execution_count": 16,
   "metadata": {
    "collapsed": true
   },
   "outputs": [],
   "source": [
    "X=X[:,1:]"
   ]
  },
  {
   "cell_type": "code",
   "execution_count": 17,
   "metadata": {},
   "outputs": [
    {
     "data": {
      "text/plain": [
       "(10000, 11)"
      ]
     },
     "execution_count": 17,
     "metadata": {},
     "output_type": "execute_result"
    }
   ],
   "source": [
    "X.shape"
   ]
  },
  {
   "cell_type": "code",
   "execution_count": 19,
   "metadata": {
    "collapsed": true
   },
   "outputs": [],
   "source": [
    "from sklearn.model_selection import train_test_split"
   ]
  },
  {
   "cell_type": "code",
   "execution_count": 20,
   "metadata": {
    "collapsed": true
   },
   "outputs": [],
   "source": [
    "X_train,X_test,y_train,y_test=train_test_split(X,y,test_size=0.25,random_state=0)"
   ]
  },
  {
   "cell_type": "code",
   "execution_count": 21,
   "metadata": {},
   "outputs": [
    {
     "data": {
      "text/plain": [
       "(7500, 11)"
      ]
     },
     "execution_count": 21,
     "metadata": {},
     "output_type": "execute_result"
    }
   ],
   "source": [
    "X_train.shape"
   ]
  },
  {
   "cell_type": "code",
   "execution_count": 22,
   "metadata": {
    "collapsed": true
   },
   "outputs": [],
   "source": [
    "from sklearn.preprocessing import StandardScaler"
   ]
  },
  {
   "cell_type": "code",
   "execution_count": 23,
   "metadata": {
    "collapsed": true
   },
   "outputs": [],
   "source": [
    "sc=StandardScaler()"
   ]
  },
  {
   "cell_type": "code",
   "execution_count": 24,
   "metadata": {
    "collapsed": true
   },
   "outputs": [],
   "source": [
    "X_train=sc.fit_transform(X_train)"
   ]
  },
  {
   "cell_type": "code",
   "execution_count": 25,
   "metadata": {
    "collapsed": true
   },
   "outputs": [],
   "source": [
    "X_test=sc.transform(X_test)"
   ]
  },
  {
   "cell_type": "code",
   "execution_count": 22,
   "metadata": {},
   "outputs": [
    {
     "name": "stderr",
     "output_type": "stream",
     "text": [
      "Using TensorFlow backend.\n"
     ]
    }
   ],
   "source": [
    "import keras"
   ]
  },
  {
   "cell_type": "code",
   "execution_count": 23,
   "metadata": {
    "collapsed": true
   },
   "outputs": [],
   "source": [
    "from keras.models import Sequential"
   ]
  },
  {
   "cell_type": "code",
   "execution_count": 24,
   "metadata": {
    "collapsed": true
   },
   "outputs": [],
   "source": [
    "from keras.layers import Dense"
   ]
  },
  {
   "cell_type": "code",
   "execution_count": 25,
   "metadata": {
    "collapsed": true
   },
   "outputs": [],
   "source": [
    "#intializing the ANN\n",
    "classifier=Sequential()"
   ]
  },
  {
   "cell_type": "code",
   "execution_count": 26,
   "metadata": {},
   "outputs": [
    {
     "name": "stderr",
     "output_type": "stream",
     "text": [
      "/home/dhama/anaconda3/lib/python3.6/site-packages/ipykernel_launcher.py:2: UserWarning: Update your `Dense` call to the Keras 2 API: `Dense(units=6, activation=\"relu\", input_dim=11, kernel_initializer=\"uniform\")`\n",
      "  \n"
     ]
    }
   ],
   "source": [
    "#first layer:\n",
    "classifier.add(Dense(units=6,init='uniform',activation='relu',input_dim=11))"
   ]
  },
  {
   "cell_type": "code",
   "execution_count": 27,
   "metadata": {},
   "outputs": [
    {
     "name": "stderr",
     "output_type": "stream",
     "text": [
      "/home/dhama/anaconda3/lib/python3.6/site-packages/ipykernel_launcher.py:1: UserWarning: Update your `Dense` call to the Keras 2 API: `Dense(units=6, activation=\"relu\", kernel_initializer=\"uniform\")`\n",
      "  \"\"\"Entry point for launching an IPython kernel.\n"
     ]
    }
   ],
   "source": [
    "classifier.add(Dense(units=6,init='uniform',activation='relu'))"
   ]
  },
  {
   "cell_type": "code",
   "execution_count": 28,
   "metadata": {},
   "outputs": [
    {
     "name": "stderr",
     "output_type": "stream",
     "text": [
      "/home/dhama/anaconda3/lib/python3.6/site-packages/ipykernel_launcher.py:1: UserWarning: Update your `Dense` call to the Keras 2 API: `Dense(units=1, activation=\"sigmoid\", kernel_initializer=\"uniform\")`\n",
      "  \"\"\"Entry point for launching an IPython kernel.\n"
     ]
    }
   ],
   "source": [
    "classifier.add(Dense(units=1,init='uniform',activation='sigmoid'))"
   ]
  },
  {
   "cell_type": "code",
   "execution_count": 29,
   "metadata": {
    "collapsed": true
   },
   "outputs": [],
   "source": [
    "classifier.compile(optimizer='adam',loss='binary_crossentropy',metrics=['accuracy'])"
   ]
  },
  {
   "cell_type": "code",
   "execution_count": 30,
   "metadata": {},
   "outputs": [
    {
     "name": "stdout",
     "output_type": "stream",
     "text": [
      "Epoch 1/150\n",
      "7500/7500 [==============================] - 18s 2ms/step - loss: 0.4945 - acc: 0.7959\n",
      "Epoch 2/150\n",
      "7500/7500 [==============================] - 3s 406us/step - loss: 0.4286 - acc: 0.7963\n",
      "Epoch 3/150\n",
      "7500/7500 [==============================] - 3s 404us/step - loss: 0.4214 - acc: 0.8155\n",
      "Epoch 4/150\n",
      "7500/7500 [==============================] - 3s 404us/step - loss: 0.4142 - acc: 0.8307\n",
      "Epoch 5/150\n",
      "7500/7500 [==============================] - 3s 409us/step - loss: 0.4091 - acc: 0.8300\n",
      "Epoch 6/150\n",
      "7500/7500 [==============================] - 3s 425us/step - loss: 0.4065 - acc: 0.8332\n",
      "Epoch 7/150\n",
      "7500/7500 [==============================] - 3s 429us/step - loss: 0.4047 - acc: 0.8348\n",
      "Epoch 8/150\n",
      "7500/7500 [==============================] - 3s 439us/step - loss: 0.4025 - acc: 0.8335\n",
      "Epoch 9/150\n",
      "7500/7500 [==============================] - 3s 434us/step - loss: 0.4020 - acc: 0.8340\n",
      "Epoch 10/150\n",
      "7500/7500 [==============================] - 3s 425us/step - loss: 0.3999 - acc: 0.8356\n",
      "Epoch 11/150\n",
      "7500/7500 [==============================] - 3s 431us/step - loss: 0.3996 - acc: 0.8348\n",
      "Epoch 12/150\n",
      "7500/7500 [==============================] - 3s 429us/step - loss: 0.3984 - acc: 0.8351\n",
      "Epoch 13/150\n",
      "7500/7500 [==============================] - 3s 433us/step - loss: 0.3978 - acc: 0.8352\n",
      "Epoch 14/150\n",
      "7500/7500 [==============================] - 3s 449us/step - loss: 0.3965 - acc: 0.8353\n",
      "Epoch 15/150\n",
      "7500/7500 [==============================] - 3s 446us/step - loss: 0.3940 - acc: 0.8361\n",
      "Epoch 16/150\n",
      "7500/7500 [==============================] - 3s 432us/step - loss: 0.3916 - acc: 0.8375\n",
      "Epoch 17/150\n",
      "7500/7500 [==============================] - 3s 445us/step - loss: 0.3885 - acc: 0.8396\n",
      "Epoch 18/150\n",
      "7500/7500 [==============================] - 3s 439us/step - loss: 0.3843 - acc: 0.8395\n",
      "Epoch 19/150\n",
      "7500/7500 [==============================] - 3s 443us/step - loss: 0.3798 - acc: 0.8421\n",
      "Epoch 20/150\n",
      "7500/7500 [==============================] - 4s 561us/step - loss: 0.3748 - acc: 0.8468\n",
      "Epoch 21/150\n",
      "7500/7500 [==============================] - 3s 434us/step - loss: 0.3682 - acc: 0.8479\n",
      "Epoch 22/150\n",
      "7500/7500 [==============================] - 3s 438us/step - loss: 0.3619 - acc: 0.8523\n",
      "Epoch 23/150\n",
      "7500/7500 [==============================] - 3s 442us/step - loss: 0.3581 - acc: 0.8545\n",
      "Epoch 24/150\n",
      "7500/7500 [==============================] - 3s 455us/step - loss: 0.3544 - acc: 0.8533\n",
      "Epoch 25/150\n",
      "7500/7500 [==============================] - 4s 481us/step - loss: 0.3521 - acc: 0.8535\n",
      "Epoch 26/150\n",
      "7500/7500 [==============================] - 4s 475us/step - loss: 0.3505 - acc: 0.8572\n",
      "Epoch 27/150\n",
      "7500/7500 [==============================] - 4s 580us/step - loss: 0.3492 - acc: 0.8557\n",
      "Epoch 28/150\n",
      "7500/7500 [==============================] - 5s 632us/step - loss: 0.3479 - acc: 0.8555\n",
      "Epoch 29/150\n",
      "7500/7500 [==============================] - 3s 408us/step - loss: 0.3479 - acc: 0.8557\n",
      "Epoch 30/150\n",
      "7500/7500 [==============================] - 3s 441us/step - loss: 0.3469 - acc: 0.8585\n",
      "Epoch 31/150\n",
      "7500/7500 [==============================] - 3s 365us/step - loss: 0.3460 - acc: 0.8565\n",
      "Epoch 32/150\n",
      "7500/7500 [==============================] - 3s 373us/step - loss: 0.3454 - acc: 0.8573\n",
      "Epoch 33/150\n",
      "7500/7500 [==============================] - 3s 428us/step - loss: 0.3458 - acc: 0.8563\n",
      "Epoch 34/150\n",
      "7500/7500 [==============================] - 4s 538us/step - loss: 0.3457 - acc: 0.8561\n",
      "Epoch 35/150\n",
      "7500/7500 [==============================] - 4s 487us/step - loss: 0.3453 - acc: 0.8579\n",
      "Epoch 36/150\n",
      "7500/7500 [==============================] - 4s 475us/step - loss: 0.3445 - acc: 0.8597\n",
      "Epoch 37/150\n",
      "7500/7500 [==============================] - 3s 460us/step - loss: 0.3440 - acc: 0.8569\n",
      "Epoch 38/150\n",
      "7500/7500 [==============================] - 3s 454us/step - loss: 0.3442 - acc: 0.8581\n",
      "Epoch 39/150\n",
      "7500/7500 [==============================] - 3s 459us/step - loss: 0.3431 - acc: 0.8588\n",
      "Epoch 40/150\n",
      "7500/7500 [==============================] - 3s 461us/step - loss: 0.3428 - acc: 0.8599\n",
      "Epoch 41/150\n",
      "7500/7500 [==============================] - 3s 465us/step - loss: 0.3430 - acc: 0.8604\n",
      "Epoch 42/150\n",
      "7500/7500 [==============================] - 3s 462us/step - loss: 0.3427 - acc: 0.8611\n",
      "Epoch 43/150\n",
      "7500/7500 [==============================] - 3s 459us/step - loss: 0.3438 - acc: 0.8605\n",
      "Epoch 44/150\n",
      "7500/7500 [==============================] - 3s 466us/step - loss: 0.3428 - acc: 0.8584\n",
      "Epoch 45/150\n",
      "7500/7500 [==============================] - 3s 459us/step - loss: 0.3433 - acc: 0.8589\n",
      "Epoch 46/150\n",
      "7500/7500 [==============================] - 3s 466us/step - loss: 0.3427 - acc: 0.8609\n",
      "Epoch 47/150\n",
      "7500/7500 [==============================] - 4s 471us/step - loss: 0.3422 - acc: 0.8573\n",
      "Epoch 48/150\n",
      "7500/7500 [==============================] - 3s 465us/step - loss: 0.3422 - acc: 0.8600\n",
      "Epoch 49/150\n",
      "7500/7500 [==============================] - 3s 458us/step - loss: 0.3419 - acc: 0.8601\n",
      "Epoch 50/150\n",
      "7500/7500 [==============================] - 3s 455us/step - loss: 0.3416 - acc: 0.8600\n",
      "Epoch 51/150\n",
      "7500/7500 [==============================] - 3s 467us/step - loss: 0.3414 - acc: 0.8592\n",
      "Epoch 52/150\n",
      "7500/7500 [==============================] - 3s 463us/step - loss: 0.3404 - acc: 0.8611\n",
      "Epoch 53/150\n",
      "7500/7500 [==============================] - 3s 418us/step - loss: 0.3399 - acc: 0.8617\n",
      "Epoch 54/150\n",
      "7500/7500 [==============================] - 3s 411us/step - loss: 0.3412 - acc: 0.8609\n",
      "Epoch 55/150\n",
      "7500/7500 [==============================] - 3s 403us/step - loss: 0.3400 - acc: 0.8601\n",
      "Epoch 56/150\n",
      "7500/7500 [==============================] - 3s 406us/step - loss: 0.3414 - acc: 0.8585\n",
      "Epoch 57/150\n",
      "7500/7500 [==============================] - 3s 410us/step - loss: 0.3396 - acc: 0.8611\n",
      "Epoch 58/150\n",
      "7500/7500 [==============================] - 3s 410us/step - loss: 0.3401 - acc: 0.8588\n",
      "Epoch 59/150\n",
      "7500/7500 [==============================] - 3s 414us/step - loss: 0.3400 - acc: 0.8620\n",
      "Epoch 60/150\n",
      "7500/7500 [==============================] - 3s 423us/step - loss: 0.3405 - acc: 0.8581\n",
      "Epoch 61/150\n",
      "7500/7500 [==============================] - 3s 421us/step - loss: 0.3400 - acc: 0.8599\n",
      "Epoch 62/150\n",
      "7500/7500 [==============================] - 3s 419us/step - loss: 0.3389 - acc: 0.8605\n",
      "Epoch 63/150\n",
      "7500/7500 [==============================] - 3s 441us/step - loss: 0.3395 - acc: 0.8591\n",
      "Epoch 64/150\n",
      "7500/7500 [==============================] - 3s 447us/step - loss: 0.3401 - acc: 0.8597\n",
      "Epoch 65/150\n",
      "7500/7500 [==============================] - 3s 454us/step - loss: 0.3388 - acc: 0.8621\n",
      "Epoch 66/150\n",
      "7500/7500 [==============================] - 3s 447us/step - loss: 0.3390 - acc: 0.8619\n",
      "Epoch 67/150\n",
      "7500/7500 [==============================] - 3s 441us/step - loss: 0.3401 - acc: 0.8593\n",
      "Epoch 68/150\n",
      "7500/7500 [==============================] - 3s 417us/step - loss: 0.3387 - acc: 0.8605\n",
      "Epoch 69/150\n",
      "7500/7500 [==============================] - 3s 418us/step - loss: 0.3394 - acc: 0.8609\n",
      "Epoch 70/150\n",
      "7500/7500 [==============================] - 3s 414us/step - loss: 0.3397 - acc: 0.8596\n",
      "Epoch 71/150\n",
      "7500/7500 [==============================] - 3s 415us/step - loss: 0.3386 - acc: 0.8591\n",
      "Epoch 72/150\n",
      "7500/7500 [==============================] - 3s 413us/step - loss: 0.3392 - acc: 0.8612\n",
      "Epoch 73/150\n",
      "7500/7500 [==============================] - 3s 421us/step - loss: 0.3388 - acc: 0.8595\n",
      "Epoch 74/150\n",
      "7500/7500 [==============================] - 3s 424us/step - loss: 0.3388 - acc: 0.8595\n",
      "Epoch 75/150\n",
      "7500/7500 [==============================] - 3s 420us/step - loss: 0.3392 - acc: 0.8617\n",
      "Epoch 76/150\n",
      "7500/7500 [==============================] - 3s 457us/step - loss: 0.3396 - acc: 0.8599\n",
      "Epoch 77/150\n",
      "7500/7500 [==============================] - 3s 439us/step - loss: 0.3394 - acc: 0.8595\n",
      "Epoch 78/150\n",
      "7500/7500 [==============================] - 3s 411us/step - loss: 0.3382 - acc: 0.8617\n",
      "Epoch 79/150\n",
      "7500/7500 [==============================] - 3s 423us/step - loss: 0.3387 - acc: 0.8615\n",
      "Epoch 80/150\n",
      "7500/7500 [==============================] - 3s 418us/step - loss: 0.3382 - acc: 0.8616\n",
      "Epoch 81/150\n",
      "7500/7500 [==============================] - 3s 421us/step - loss: 0.3382 - acc: 0.8605\n",
      "Epoch 82/150\n"
     ]
    },
    {
     "name": "stdout",
     "output_type": "stream",
     "text": [
      "7500/7500 [==============================] - 3s 397us/step - loss: 0.3373 - acc: 0.8633\n",
      "Epoch 83/150\n",
      "7500/7500 [==============================] - 3s 393us/step - loss: 0.3381 - acc: 0.8615\n",
      "Epoch 84/150\n",
      "7500/7500 [==============================] - 3s 388us/step - loss: 0.3369 - acc: 0.8620\n",
      "Epoch 85/150\n",
      "7500/7500 [==============================] - 3s 392us/step - loss: 0.3377 - acc: 0.8613\n",
      "Epoch 86/150\n",
      "7500/7500 [==============================] - 3s 389us/step - loss: 0.3374 - acc: 0.8621\n",
      "Epoch 87/150\n",
      "7500/7500 [==============================] - 3s 395us/step - loss: 0.3384 - acc: 0.8609\n",
      "Epoch 88/150\n",
      "7500/7500 [==============================] - 3s 392us/step - loss: 0.3372 - acc: 0.8612\n",
      "Epoch 89/150\n",
      "7500/7500 [==============================] - 3s 405us/step - loss: 0.3377 - acc: 0.8620\n",
      "Epoch 90/150\n",
      "7500/7500 [==============================] - 3s 392us/step - loss: 0.3367 - acc: 0.8611\n",
      "Epoch 91/150\n",
      "7500/7500 [==============================] - 3s 396us/step - loss: 0.3358 - acc: 0.8615\n",
      "Epoch 92/150\n",
      "7500/7500 [==============================] - 3s 396us/step - loss: 0.3373 - acc: 0.8623\n",
      "Epoch 93/150\n",
      "7500/7500 [==============================] - 3s 397us/step - loss: 0.3383 - acc: 0.8595\n",
      "Epoch 94/150\n",
      "7500/7500 [==============================] - 3s 397us/step - loss: 0.3363 - acc: 0.8615\n",
      "Epoch 95/150\n",
      "7500/7500 [==============================] - 3s 396us/step - loss: 0.3365 - acc: 0.8649\n",
      "Epoch 96/150\n",
      "7500/7500 [==============================] - 3s 402us/step - loss: 0.3375 - acc: 0.8623\n",
      "Epoch 97/150\n",
      "7500/7500 [==============================] - 3s 401us/step - loss: 0.3366 - acc: 0.8604\n",
      "Epoch 98/150\n",
      "7500/7500 [==============================] - 3s 412us/step - loss: 0.3375 - acc: 0.8624\n",
      "Epoch 99/150\n",
      "7500/7500 [==============================] - 3s 440us/step - loss: 0.3367 - acc: 0.8620\n",
      "Epoch 100/150\n",
      "7500/7500 [==============================] - 3s 441us/step - loss: 0.3371 - acc: 0.8640\n",
      "Epoch 101/150\n",
      "7500/7500 [==============================] - 3s 441us/step - loss: 0.3359 - acc: 0.8623\n",
      "Epoch 102/150\n",
      "7500/7500 [==============================] - 3s 454us/step - loss: 0.3363 - acc: 0.8621\n",
      "Epoch 103/150\n",
      "7500/7500 [==============================] - 4s 591us/step - loss: 0.3361 - acc: 0.8645\n",
      "Epoch 104/150\n",
      "7500/7500 [==============================] - 5s 606us/step - loss: 0.3373 - acc: 0.8613\n",
      "Epoch 105/150\n",
      "7500/7500 [==============================] - 3s 339us/step - loss: 0.3371 - acc: 0.8624\n",
      "Epoch 106/150\n",
      "7500/7500 [==============================] - 2s 315us/step - loss: 0.3365 - acc: 0.8611\n",
      "Epoch 107/150\n",
      "7500/7500 [==============================] - 2s 298us/step - loss: 0.3376 - acc: 0.8608\n",
      "Epoch 108/150\n",
      "7500/7500 [==============================] - 3s 450us/step - loss: 0.3350 - acc: 0.8640\n",
      "Epoch 109/150\n",
      "7500/7500 [==============================] - 3s 444us/step - loss: 0.3354 - acc: 0.8616\n",
      "Epoch 110/150\n",
      "7500/7500 [==============================] - 5s 618us/step - loss: 0.3371 - acc: 0.8631\n",
      "Epoch 111/150\n",
      "7500/7500 [==============================] - 5s 629us/step - loss: 0.3366 - acc: 0.8599\n",
      "Epoch 112/150\n",
      "7500/7500 [==============================] - 5s 622us/step - loss: 0.3358 - acc: 0.8649\n",
      "Epoch 113/150\n",
      "7500/7500 [==============================] - 4s 554us/step - loss: 0.3360 - acc: 0.8609\n",
      "Epoch 114/150\n",
      "7500/7500 [==============================] - 4s 474us/step - loss: 0.3367 - acc: 0.8605\n",
      "Epoch 115/150\n",
      "7500/7500 [==============================] - 3s 393us/step - loss: 0.3362 - acc: 0.8615\n",
      "Epoch 116/150\n",
      "7500/7500 [==============================] - 4s 546us/step - loss: 0.3350 - acc: 0.8637\n",
      "Epoch 117/150\n",
      "7500/7500 [==============================] - 3s 452us/step - loss: 0.3363 - acc: 0.8612\n",
      "Epoch 118/150\n",
      "7500/7500 [==============================] - 4s 488us/step - loss: 0.3368 - acc: 0.8625\n",
      "Epoch 119/150\n",
      "7500/7500 [==============================] - 4s 474us/step - loss: 0.3353 - acc: 0.8627\n",
      "Epoch 120/150\n",
      "7500/7500 [==============================] - 2s 324us/step - loss: 0.3356 - acc: 0.8629\n",
      "Epoch 121/150\n",
      "7500/7500 [==============================] - 2s 298us/step - loss: 0.3368 - acc: 0.8615\n",
      "Epoch 122/150\n",
      "7500/7500 [==============================] - 2s 288us/step - loss: 0.3351 - acc: 0.8633\n",
      "Epoch 123/150\n",
      "7500/7500 [==============================] - 2s 292us/step - loss: 0.3363 - acc: 0.8613\n",
      "Epoch 124/150\n",
      "7500/7500 [==============================] - 2s 293us/step - loss: 0.3362 - acc: 0.8627\n",
      "Epoch 125/150\n",
      "7500/7500 [==============================] - 2s 292us/step - loss: 0.3364 - acc: 0.8632\n",
      "Epoch 126/150\n",
      "7500/7500 [==============================] - 2s 305us/step - loss: 0.3356 - acc: 0.8620\n",
      "Epoch 127/150\n",
      "7500/7500 [==============================] - 2s 297us/step - loss: 0.3355 - acc: 0.8601\n",
      "Epoch 128/150\n",
      "7500/7500 [==============================] - 2s 299us/step - loss: 0.3368 - acc: 0.8627\n",
      "Epoch 129/150\n",
      "7500/7500 [==============================] - 2s 292us/step - loss: 0.3350 - acc: 0.8631\n",
      "Epoch 130/150\n",
      "7500/7500 [==============================] - 2s 290us/step - loss: 0.3366 - acc: 0.8613\n",
      "Epoch 131/150\n",
      "7500/7500 [==============================] - 2s 297us/step - loss: 0.3368 - acc: 0.8624\n",
      "Epoch 132/150\n",
      "7500/7500 [==============================] - 2s 297us/step - loss: 0.3364 - acc: 0.8623\n",
      "Epoch 133/150\n",
      "7500/7500 [==============================] - 2s 293us/step - loss: 0.3355 - acc: 0.8629\n",
      "Epoch 134/150\n",
      "7500/7500 [==============================] - 2s 300us/step - loss: 0.3368 - acc: 0.8596\n",
      "Epoch 135/150\n",
      "7500/7500 [==============================] - 2s 302us/step - loss: 0.3359 - acc: 0.8609\n",
      "Epoch 136/150\n",
      "7500/7500 [==============================] - 2s 297us/step - loss: 0.3355 - acc: 0.8645\n",
      "Epoch 137/150\n",
      "7500/7500 [==============================] - 2s 290us/step - loss: 0.3359 - acc: 0.8616\n",
      "Epoch 138/150\n",
      "7500/7500 [==============================] - 2s 292us/step - loss: 0.3364 - acc: 0.8613\n",
      "Epoch 139/150\n",
      "7500/7500 [==============================] - 2s 308us/step - loss: 0.3351 - acc: 0.8627\n",
      "Epoch 140/150\n",
      "7500/7500 [==============================] - 2s 332us/step - loss: 0.3356 - acc: 0.8648\n",
      "Epoch 141/150\n",
      "7500/7500 [==============================] - 3s 376us/step - loss: 0.3357 - acc: 0.8620\n",
      "Epoch 142/150\n",
      "7500/7500 [==============================] - 3s 346us/step - loss: 0.3355 - acc: 0.8623\n",
      "Epoch 143/150\n",
      "7500/7500 [==============================] - 3s 403us/step - loss: 0.3352 - acc: 0.8637\n",
      "Epoch 144/150\n",
      "7500/7500 [==============================] - 3s 348us/step - loss: 0.3351 - acc: 0.8643\n",
      "Epoch 145/150\n",
      "7500/7500 [==============================] - 3s 371us/step - loss: 0.3357 - acc: 0.8613\n",
      "Epoch 146/150\n",
      "7500/7500 [==============================] - 3s 399us/step - loss: 0.3349 - acc: 0.8651\n",
      "Epoch 147/150\n",
      "7500/7500 [==============================] - 2s 297us/step - loss: 0.3360 - acc: 0.8632\n",
      "Epoch 148/150\n",
      "7500/7500 [==============================] - 2s 304us/step - loss: 0.3352 - acc: 0.8612\n",
      "Epoch 149/150\n",
      "7500/7500 [==============================] - 2s 295us/step - loss: 0.3350 - acc: 0.8624\n",
      "Epoch 150/150\n",
      "7500/7500 [==============================] - 2s 290us/step - loss: 0.3352 - acc: 0.8620\n"
     ]
    },
    {
     "data": {
      "text/plain": [
       "<keras.callbacks.History at 0x7f299827e6a0>"
      ]
     },
     "execution_count": 30,
     "metadata": {},
     "output_type": "execute_result"
    }
   ],
   "source": [
    "classifier.fit(X_train,y_train,batch_size=10,epochs=150)"
   ]
  },
  {
   "cell_type": "code",
   "execution_count": 31,
   "metadata": {
    "collapsed": true
   },
   "outputs": [],
   "source": [
    "y_pred=classifier.predict(X_test)"
   ]
  },
  {
   "cell_type": "code",
   "execution_count": 32,
   "metadata": {
    "collapsed": true
   },
   "outputs": [],
   "source": [
    "y_pred=(y_pred>0.5)"
   ]
  },
  {
   "cell_type": "code",
   "execution_count": 33,
   "metadata": {},
   "outputs": [
    {
     "data": {
      "text/plain": [
       "array([[False],\n",
       "       [False],\n",
       "       [False],\n",
       "       ..., \n",
       "       [False],\n",
       "       [False],\n",
       "       [False]], dtype=bool)"
      ]
     },
     "execution_count": 33,
     "metadata": {},
     "output_type": "execute_result"
    }
   ],
   "source": [
    "y_pred"
   ]
  },
  {
   "cell_type": "code",
   "execution_count": 34,
   "metadata": {
    "collapsed": true
   },
   "outputs": [],
   "source": [
    "from sklearn.metrics import confusion_matrix"
   ]
  },
  {
   "cell_type": "code",
   "execution_count": 35,
   "metadata": {
    "collapsed": true
   },
   "outputs": [],
   "source": [
    "cm=confusion_matrix(y_test,y_pred)"
   ]
  },
  {
   "cell_type": "code",
   "execution_count": 36,
   "metadata": {},
   "outputs": [
    {
     "data": {
      "text/plain": [
       "array([[1819,  172],\n",
       "       [ 200,  309]])"
      ]
     },
     "execution_count": 36,
     "metadata": {},
     "output_type": "execute_result"
    }
   ],
   "source": [
    "cm"
   ]
  },
  {
   "cell_type": "code",
   "execution_count": 3,
   "metadata": {},
   "outputs": [
    {
     "name": "stderr",
     "output_type": "stream",
     "text": [
      "Using TensorFlow backend.\n"
     ]
    }
   ],
   "source": [
    "\n",
    "from keras.models import load_model"
   ]
  },
  {
   "cell_type": "code",
   "execution_count": 46,
   "metadata": {},
   "outputs": [],
   "source": [
    "classifier.save('Ann.h5')"
   ]
  },
  {
   "cell_type": "code",
   "execution_count": 4,
   "metadata": {},
   "outputs": [],
   "source": [
    "classifier=load_model('Ann.h5')  "
   ]
  },
  {
   "cell_type": "code",
   "execution_count": null,
   "metadata": {},
   "outputs": [],
   "source": []
  },
  {
   "cell_type": "code",
   "execution_count": 26,
   "metadata": {},
   "outputs": [],
   "source": [
    "new_pred=classifier.predict(sc.transform(np.array([[0.0,0,600,1,40,3,60000,2,1,1,50000]])))"
   ]
  },
  {
   "cell_type": "code",
   "execution_count": 27,
   "metadata": {
    "collapsed": true
   },
   "outputs": [],
   "source": [
    "new_pred=new_pred>0.5"
   ]
  },
  {
   "cell_type": "code",
   "execution_count": 28,
   "metadata": {},
   "outputs": [
    {
     "data": {
      "text/plain": [
       "array([[False]], dtype=bool)"
      ]
     },
     "execution_count": 28,
     "metadata": {},
     "output_type": "execute_result"
    }
   ],
   "source": [
    "new_pred"
   ]
  },
  {
   "cell_type": "code",
   "execution_count": null,
   "metadata": {
    "collapsed": true
   },
   "outputs": [],
   "source": [
    " "
   ]
  }
 ],
 "metadata": {
  "kernelspec": {
   "display_name": "Python 3",
   "language": "python",
   "name": "python3"
  },
  "language_info": {
   "codemirror_mode": {
    "name": "ipython",
    "version": 3
   },
   "file_extension": ".py",
   "mimetype": "text/x-python",
   "name": "python",
   "nbconvert_exporter": "python",
   "pygments_lexer": "ipython3",
   "version": "3.6.3"
  }
 },
 "nbformat": 4,
 "nbformat_minor": 2
}
